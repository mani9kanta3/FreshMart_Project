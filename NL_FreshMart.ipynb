{
  "cells": [
    {
      "cell_type": "markdown",
      "metadata": {
        "id": "lC8TCwMlN0fx"
      },
      "source": [
        "# **🛒 FreshMart Revenue Optimization**\n",
        "\n",
        "FreshMart, a leading U.S. grocery chain, is shifting focus from expanding store locations to maximizing Total Sales Revenue through its existing infrastructure. This project analyzes four months of sales data—including product-level sales, customer demographics, city attributes, and employee performance—to uncover key revenue drivers. The goal is to identify high-performing products, evaluate discount and geographic trends, segment customer behavior, and assess employee impact. Insights will guide smarter strategic decisions, improve profitability, and enhance overall retail efficiency."
      ]
    },
    {
      "cell_type": "markdown",
      "metadata": {
        "id": "Id6C6VIYRDJ8"
      },
      "source": [
        "# **Objective:**\n",
        "\n",
        "In this project, we aim to analyze FreshMart’s retail sales data to:\n",
        "\n",
        "\n",
        "\n",
        "*   **Maximize Total Sales Revenue:** Identify key drivers of revenue across products, customers, regions, and employees to uncover untapped growth opportunities.\n",
        "\n",
        "*   **Understand Buying Behavior:** Analyze how customer segments respond to discounts, product classes, and pricing strategies.\n",
        "\n",
        "\n",
        "*   **Optimize Product and Pricing Strategy:** Evaluate category performance, shelf life, and price tiers to improve profitability and inventory decisions.\n",
        "\n",
        "*   **Empower Data-Driven Decisions:** Deliver actionable insights through a clean, interactive Tableau dashboard for smarter retail operations and strategic planning.\n",
        "\n",
        "\n",
        "\n",
        "\n"
      ]
    },
    {
      "cell_type": "markdown",
      "metadata": {
        "id": "oNTnBIzaR73W"
      },
      "source": [
        "# **Business Impact**\n",
        "\n",
        "This analysis helps FreshMart to:\n",
        "\n",
        "\n",
        "*   **Boost Revenue from Existing Stores:** Identify and amplify the factors that contribute most to total sales revenue without opening new outlets.\n",
        "\n",
        "*   **Enhance Strategic Decision-Making:** Use data-driven insights to refine pricing, discounting, and inventory strategies.\n",
        "\n",
        "\n",
        "*  **Optimize Customer and Employee Performance:** Segment high-value customers and top-performing employees to replicate success across the network.\n",
        "\n",
        "*   **Improve Operational Efficiency:** Streamline sales efforts by focusing on high-margin categories and underperforming locations for targeted improvements.\n"
      ]
    },
    {
      "cell_type": "markdown",
      "metadata": {
        "id": "LSf-jSD1TUqP"
      },
      "source": [
        "# **Dataset Information:**\n",
        "\n",
        "\n",
        "*   **Dataset:** FreshMart Retail Sales Analytics\n",
        "*   **Count of Rows:** 6,758,125 (in sales.csv)\n",
        "*   **Count of Columns:** 9 (in sales.csv)\n",
        "*   **Total CSV Files Used:** 7 (sales, products, customers, employees, cities, countries, categories)\n",
        "\n",
        "The dataset includes the following files and key columns:\n",
        "1.\t**sales.csv:** SalesID, ProductID, CustomerID, EmployeeID, Quantity, Discount, SalesDate, TotalPrice, TransactionNumber. Captures each sale with quantity, pricing, and discount details.\n",
        "2.\t**products.csv:** ProductID, ProductName, Price, CategoryID, Class, IsAllergic, VitalityDays. Provides product attributes, pricing, classification, and shelf-life indicators.\n",
        "3.\t**categories.csv:** CategoryID, CategoryName. Maps products to their broader category (e.g., Beverages, Snacks, Dairy).\n",
        "4.\t**customers.csv:** CustomerID, FirstName, CityID, Address. Enables customer-based segmentation and geographic profiling.\n",
        "5.\t**employees.csv:** EmployeeID, FirstName, HireDate, CityID. Helps evaluate employee performance and regional contributions.\n",
        "6.\t**cities.csv:** CityID, CityName, Zipcode, CountryID. Adds population and regional context to transactions.\n",
        "7.\t**countries.csv:** CountryID, CountryName, CountryCode. Supports country-wise comparison and drilldowns.\n"
      ]
    },
    {
      "cell_type": "markdown",
      "metadata": {
        "id": "4i9ZoWvZv8l_"
      },
      "source": [
        "# **Import the Data**\n",
        "\n",
        "Import required libraries and loading the dataset from google drive."
      ]
    },
    {
      "cell_type": "code",
      "execution_count": 3,
      "metadata": {
        "colab": {
          "base_uri": "https://localhost:8080/"
        },
        "id": "MFMoGeR3wcEF",
        "outputId": "eb0a00b0-5d60-4117-a617-6c535e0e3594"
      },
      "outputs": [
        {
          "output_type": "stream",
          "name": "stdout",
          "text": [
            "Downloading categories.csv...\n"
          ]
        },
        {
          "output_type": "stream",
          "name": "stderr",
          "text": [
            "Downloading...\n",
            "From: https://drive.google.com/uc?id=1YXDRMoyROteD_fdwNZBOGiIFJam-SxkD\n",
            "To: /content/categories.csv\n",
            "100%|██████████| 137/137 [00:00<00:00, 341kB/s]\n"
          ]
        },
        {
          "output_type": "stream",
          "name": "stdout",
          "text": [
            "Downloading cities.csv...\n"
          ]
        },
        {
          "output_type": "stream",
          "name": "stderr",
          "text": [
            "Downloading...\n",
            "From: https://drive.google.com/uc?id=1RjUGDpmjfyesPFFVXCkWzarpCQkQqB-6\n",
            "To: /content/cities.csv\n",
            "100%|██████████| 2.17k/2.17k [00:00<00:00, 4.86MB/s]\n"
          ]
        },
        {
          "output_type": "stream",
          "name": "stdout",
          "text": [
            "Downloading countries.csv...\n"
          ]
        },
        {
          "output_type": "stream",
          "name": "stderr",
          "text": [
            "Downloading...\n",
            "From: https://drive.google.com/uc?id=16U5aSAhje_3DhVzs9ZxL5RzGYXW-ObHL\n",
            "To: /content/countries.csv\n",
            "100%|██████████| 3.18k/3.18k [00:00<00:00, 9.05MB/s]\n"
          ]
        },
        {
          "output_type": "stream",
          "name": "stdout",
          "text": [
            "Downloading customers.csv...\n"
          ]
        },
        {
          "output_type": "stream",
          "name": "stderr",
          "text": [
            "Downloading...\n",
            "From: https://drive.google.com/uc?id=1NUljelPD7QNj2P8lpfw_GFVEMn3qIBpI\n",
            "To: /content/customers.csv\n",
            "100%|██████████| 4.44M/4.44M [00:00<00:00, 30.3MB/s]\n"
          ]
        },
        {
          "output_type": "stream",
          "name": "stdout",
          "text": [
            "Downloading employees.csv...\n"
          ]
        },
        {
          "output_type": "stream",
          "name": "stderr",
          "text": [
            "Downloading...\n",
            "From: https://drive.google.com/uc?id=1DSEnfhO6DCa3TM5j4ovYSPbpxnBwPPF0\n",
            "To: /content/employees.csv\n",
            "100%|██████████| 1.72k/1.72k [00:00<00:00, 4.47MB/s]\n"
          ]
        },
        {
          "output_type": "stream",
          "name": "stdout",
          "text": [
            "Downloading products.csv...\n"
          ]
        },
        {
          "output_type": "stream",
          "name": "stderr",
          "text": [
            "Downloading...\n",
            "From: https://drive.google.com/uc?id=1N5XsqeCFzK7qNRVgM3Xr-DsKpcLxSqsN\n",
            "To: /content/products.csv\n",
            "100%|██████████| 36.8k/36.8k [00:00<00:00, 15.3MB/s]\n"
          ]
        },
        {
          "output_type": "stream",
          "name": "stdout",
          "text": [
            "Downloading sales.csv...\n"
          ]
        },
        {
          "output_type": "stream",
          "name": "stderr",
          "text": [
            "Downloading...\n",
            "From (original): https://drive.google.com/uc?id=1nlHb3oxJTxPTq5b92qDLdNqL2GIbXV8y\n",
            "From (redirected): https://drive.google.com/uc?id=1nlHb3oxJTxPTq5b92qDLdNqL2GIbXV8y&confirm=t&uuid=60d9172e-b612-4c78-b25a-92d0b5d65671\n",
            "To: /content/sales.csv\n",
            "100%|██████████| 517M/517M [00:03<00:00, 144MB/s]\n"
          ]
        }
      ],
      "source": [
        "# Step 1: Install gdown\n",
        "!pip install -q gdown\n",
        "\n",
        "# Step 2: Import libraries\n",
        "import gdown\n",
        "import pandas as pd\n",
        "import numpy as np\n",
        "import matplotlib.pyplot as plt\n",
        "import seaborn as sns\n",
        "\n",
        "# Step 3: File ID and URL\n",
        "files = {\n",
        "    \"categories.csv\": \"1YXDRMoyROteD_fdwNZBOGiIFJam-SxkD\",\n",
        "    \"cities.csv\": \"1RjUGDpmjfyesPFFVXCkWzarpCQkQqB-6\",\n",
        "    \"countries.csv\": \"16U5aSAhje_3DhVzs9ZxL5RzGYXW-ObHL\",\n",
        "    \"customers.csv\": \"1NUljelPD7QNj2P8lpfw_GFVEMn3qIBpI\",\n",
        "    \"employees.csv\": \"1DSEnfhO6DCa3TM5j4ovYSPbpxnBwPPF0\",\n",
        "    \"products.csv\": \"1N5XsqeCFzK7qNRVgM3Xr-DsKpcLxSqsN\",\n",
        "    \"sales.csv\": \"1nlHb3oxJTxPTq5b92qDLdNqL2GIbXV8y\"\n",
        "}\n",
        "\n",
        "# Step 4: Download all files\n",
        "for filename, file_id in files.items():\n",
        "    url = f\"https://drive.google.com/uc?id={file_id}\"\n",
        "    print(f\"Downloading {filename}...\")\n",
        "    gdown.download(url, filename, quiet=False)"
      ]
    },
    {
      "cell_type": "markdown",
      "metadata": {
        "id": "sBwjWl363gLU"
      },
      "source": [
        "### Load the dataset and check rows and columns."
      ]
    },
    {
      "cell_type": "code",
      "execution_count": 4,
      "metadata": {
        "colab": {
          "base_uri": "https://localhost:8080/",
          "height": 206
        },
        "id": "oQFBGxDGzVKi",
        "outputId": "92b9c0b0-75e5-481d-9529-92edfe94c3f1"
      },
      "outputs": [
        {
          "output_type": "execute_result",
          "data": {
            "text/plain": [
              "   SalesID  SalesPersonID  CustomerID  ProductID  Quantity  Discount  \\\n",
              "0        1              6       27039        381         7       0.0   \n",
              "1        2             16       25011         61         7       0.0   \n",
              "2        3             13       94024         23        24       0.0   \n",
              "3        4              8       73966        176        19       0.2   \n",
              "4        5             10       32653        310         9       0.0   \n",
              "\n",
              "   TotalPrice                SalesDate     TransactionNumber  \n",
              "0         0.0  2018-02-05 07:38:25.430  FQL4S94E4ME1EZFTG42G  \n",
              "1         0.0  2018-02-02 16:03:31.150  12UGLX40DJ1A5DTFBHB8  \n",
              "2         0.0  2018-05-03 19:31:56.880  5DT8RCPL87KI5EORO7B0  \n",
              "3         0.0  2018-04-07 14:43:55.420  R3DR9MLD5NR76VO17ULE  \n",
              "4         0.0  2018-02-12 15:37:03.940  4BGS0Z5OMAZ8NDAFHHP3  "
            ],
            "text/html": [
              "\n",
              "  <div id=\"df-940f66d4-8030-43ac-ab7b-60e08ddea1ab\" class=\"colab-df-container\">\n",
              "    <div>\n",
              "<style scoped>\n",
              "    .dataframe tbody tr th:only-of-type {\n",
              "        vertical-align: middle;\n",
              "    }\n",
              "\n",
              "    .dataframe tbody tr th {\n",
              "        vertical-align: top;\n",
              "    }\n",
              "\n",
              "    .dataframe thead th {\n",
              "        text-align: right;\n",
              "    }\n",
              "</style>\n",
              "<table border=\"1\" class=\"dataframe\">\n",
              "  <thead>\n",
              "    <tr style=\"text-align: right;\">\n",
              "      <th></th>\n",
              "      <th>SalesID</th>\n",
              "      <th>SalesPersonID</th>\n",
              "      <th>CustomerID</th>\n",
              "      <th>ProductID</th>\n",
              "      <th>Quantity</th>\n",
              "      <th>Discount</th>\n",
              "      <th>TotalPrice</th>\n",
              "      <th>SalesDate</th>\n",
              "      <th>TransactionNumber</th>\n",
              "    </tr>\n",
              "  </thead>\n",
              "  <tbody>\n",
              "    <tr>\n",
              "      <th>0</th>\n",
              "      <td>1</td>\n",
              "      <td>6</td>\n",
              "      <td>27039</td>\n",
              "      <td>381</td>\n",
              "      <td>7</td>\n",
              "      <td>0.0</td>\n",
              "      <td>0.0</td>\n",
              "      <td>2018-02-05 07:38:25.430</td>\n",
              "      <td>FQL4S94E4ME1EZFTG42G</td>\n",
              "    </tr>\n",
              "    <tr>\n",
              "      <th>1</th>\n",
              "      <td>2</td>\n",
              "      <td>16</td>\n",
              "      <td>25011</td>\n",
              "      <td>61</td>\n",
              "      <td>7</td>\n",
              "      <td>0.0</td>\n",
              "      <td>0.0</td>\n",
              "      <td>2018-02-02 16:03:31.150</td>\n",
              "      <td>12UGLX40DJ1A5DTFBHB8</td>\n",
              "    </tr>\n",
              "    <tr>\n",
              "      <th>2</th>\n",
              "      <td>3</td>\n",
              "      <td>13</td>\n",
              "      <td>94024</td>\n",
              "      <td>23</td>\n",
              "      <td>24</td>\n",
              "      <td>0.0</td>\n",
              "      <td>0.0</td>\n",
              "      <td>2018-05-03 19:31:56.880</td>\n",
              "      <td>5DT8RCPL87KI5EORO7B0</td>\n",
              "    </tr>\n",
              "    <tr>\n",
              "      <th>3</th>\n",
              "      <td>4</td>\n",
              "      <td>8</td>\n",
              "      <td>73966</td>\n",
              "      <td>176</td>\n",
              "      <td>19</td>\n",
              "      <td>0.2</td>\n",
              "      <td>0.0</td>\n",
              "      <td>2018-04-07 14:43:55.420</td>\n",
              "      <td>R3DR9MLD5NR76VO17ULE</td>\n",
              "    </tr>\n",
              "    <tr>\n",
              "      <th>4</th>\n",
              "      <td>5</td>\n",
              "      <td>10</td>\n",
              "      <td>32653</td>\n",
              "      <td>310</td>\n",
              "      <td>9</td>\n",
              "      <td>0.0</td>\n",
              "      <td>0.0</td>\n",
              "      <td>2018-02-12 15:37:03.940</td>\n",
              "      <td>4BGS0Z5OMAZ8NDAFHHP3</td>\n",
              "    </tr>\n",
              "  </tbody>\n",
              "</table>\n",
              "</div>\n",
              "    <div class=\"colab-df-buttons\">\n",
              "\n",
              "  <div class=\"colab-df-container\">\n",
              "    <button class=\"colab-df-convert\" onclick=\"convertToInteractive('df-940f66d4-8030-43ac-ab7b-60e08ddea1ab')\"\n",
              "            title=\"Convert this dataframe to an interactive table.\"\n",
              "            style=\"display:none;\">\n",
              "\n",
              "  <svg xmlns=\"http://www.w3.org/2000/svg\" height=\"24px\" viewBox=\"0 -960 960 960\">\n",
              "    <path d=\"M120-120v-720h720v720H120Zm60-500h600v-160H180v160Zm220 220h160v-160H400v160Zm0 220h160v-160H400v160ZM180-400h160v-160H180v160Zm440 0h160v-160H620v160ZM180-180h160v-160H180v160Zm440 0h160v-160H620v160Z\"/>\n",
              "  </svg>\n",
              "    </button>\n",
              "\n",
              "  <style>\n",
              "    .colab-df-container {\n",
              "      display:flex;\n",
              "      gap: 12px;\n",
              "    }\n",
              "\n",
              "    .colab-df-convert {\n",
              "      background-color: #E8F0FE;\n",
              "      border: none;\n",
              "      border-radius: 50%;\n",
              "      cursor: pointer;\n",
              "      display: none;\n",
              "      fill: #1967D2;\n",
              "      height: 32px;\n",
              "      padding: 0 0 0 0;\n",
              "      width: 32px;\n",
              "    }\n",
              "\n",
              "    .colab-df-convert:hover {\n",
              "      background-color: #E2EBFA;\n",
              "      box-shadow: 0px 1px 2px rgba(60, 64, 67, 0.3), 0px 1px 3px 1px rgba(60, 64, 67, 0.15);\n",
              "      fill: #174EA6;\n",
              "    }\n",
              "\n",
              "    .colab-df-buttons div {\n",
              "      margin-bottom: 4px;\n",
              "    }\n",
              "\n",
              "    [theme=dark] .colab-df-convert {\n",
              "      background-color: #3B4455;\n",
              "      fill: #D2E3FC;\n",
              "    }\n",
              "\n",
              "    [theme=dark] .colab-df-convert:hover {\n",
              "      background-color: #434B5C;\n",
              "      box-shadow: 0px 1px 3px 1px rgba(0, 0, 0, 0.15);\n",
              "      filter: drop-shadow(0px 1px 2px rgba(0, 0, 0, 0.3));\n",
              "      fill: #FFFFFF;\n",
              "    }\n",
              "  </style>\n",
              "\n",
              "    <script>\n",
              "      const buttonEl =\n",
              "        document.querySelector('#df-940f66d4-8030-43ac-ab7b-60e08ddea1ab button.colab-df-convert');\n",
              "      buttonEl.style.display =\n",
              "        google.colab.kernel.accessAllowed ? 'block' : 'none';\n",
              "\n",
              "      async function convertToInteractive(key) {\n",
              "        const element = document.querySelector('#df-940f66d4-8030-43ac-ab7b-60e08ddea1ab');\n",
              "        const dataTable =\n",
              "          await google.colab.kernel.invokeFunction('convertToInteractive',\n",
              "                                                    [key], {});\n",
              "        if (!dataTable) return;\n",
              "\n",
              "        const docLinkHtml = 'Like what you see? Visit the ' +\n",
              "          '<a target=\"_blank\" href=https://colab.research.google.com/notebooks/data_table.ipynb>data table notebook</a>'\n",
              "          + ' to learn more about interactive tables.';\n",
              "        element.innerHTML = '';\n",
              "        dataTable['output_type'] = 'display_data';\n",
              "        await google.colab.output.renderOutput(dataTable, element);\n",
              "        const docLink = document.createElement('div');\n",
              "        docLink.innerHTML = docLinkHtml;\n",
              "        element.appendChild(docLink);\n",
              "      }\n",
              "    </script>\n",
              "  </div>\n",
              "\n",
              "\n",
              "    <div id=\"df-f933cc5a-dce3-4045-8212-94ddd196a0b8\">\n",
              "      <button class=\"colab-df-quickchart\" onclick=\"quickchart('df-f933cc5a-dce3-4045-8212-94ddd196a0b8')\"\n",
              "                title=\"Suggest charts\"\n",
              "                style=\"display:none;\">\n",
              "\n",
              "<svg xmlns=\"http://www.w3.org/2000/svg\" height=\"24px\"viewBox=\"0 0 24 24\"\n",
              "     width=\"24px\">\n",
              "    <g>\n",
              "        <path d=\"M19 3H5c-1.1 0-2 .9-2 2v14c0 1.1.9 2 2 2h14c1.1 0 2-.9 2-2V5c0-1.1-.9-2-2-2zM9 17H7v-7h2v7zm4 0h-2V7h2v10zm4 0h-2v-4h2v4z\"/>\n",
              "    </g>\n",
              "</svg>\n",
              "      </button>\n",
              "\n",
              "<style>\n",
              "  .colab-df-quickchart {\n",
              "      --bg-color: #E8F0FE;\n",
              "      --fill-color: #1967D2;\n",
              "      --hover-bg-color: #E2EBFA;\n",
              "      --hover-fill-color: #174EA6;\n",
              "      --disabled-fill-color: #AAA;\n",
              "      --disabled-bg-color: #DDD;\n",
              "  }\n",
              "\n",
              "  [theme=dark] .colab-df-quickchart {\n",
              "      --bg-color: #3B4455;\n",
              "      --fill-color: #D2E3FC;\n",
              "      --hover-bg-color: #434B5C;\n",
              "      --hover-fill-color: #FFFFFF;\n",
              "      --disabled-bg-color: #3B4455;\n",
              "      --disabled-fill-color: #666;\n",
              "  }\n",
              "\n",
              "  .colab-df-quickchart {\n",
              "    background-color: var(--bg-color);\n",
              "    border: none;\n",
              "    border-radius: 50%;\n",
              "    cursor: pointer;\n",
              "    display: none;\n",
              "    fill: var(--fill-color);\n",
              "    height: 32px;\n",
              "    padding: 0;\n",
              "    width: 32px;\n",
              "  }\n",
              "\n",
              "  .colab-df-quickchart:hover {\n",
              "    background-color: var(--hover-bg-color);\n",
              "    box-shadow: 0 1px 2px rgba(60, 64, 67, 0.3), 0 1px 3px 1px rgba(60, 64, 67, 0.15);\n",
              "    fill: var(--button-hover-fill-color);\n",
              "  }\n",
              "\n",
              "  .colab-df-quickchart-complete:disabled,\n",
              "  .colab-df-quickchart-complete:disabled:hover {\n",
              "    background-color: var(--disabled-bg-color);\n",
              "    fill: var(--disabled-fill-color);\n",
              "    box-shadow: none;\n",
              "  }\n",
              "\n",
              "  .colab-df-spinner {\n",
              "    border: 2px solid var(--fill-color);\n",
              "    border-color: transparent;\n",
              "    border-bottom-color: var(--fill-color);\n",
              "    animation:\n",
              "      spin 1s steps(1) infinite;\n",
              "  }\n",
              "\n",
              "  @keyframes spin {\n",
              "    0% {\n",
              "      border-color: transparent;\n",
              "      border-bottom-color: var(--fill-color);\n",
              "      border-left-color: var(--fill-color);\n",
              "    }\n",
              "    20% {\n",
              "      border-color: transparent;\n",
              "      border-left-color: var(--fill-color);\n",
              "      border-top-color: var(--fill-color);\n",
              "    }\n",
              "    30% {\n",
              "      border-color: transparent;\n",
              "      border-left-color: var(--fill-color);\n",
              "      border-top-color: var(--fill-color);\n",
              "      border-right-color: var(--fill-color);\n",
              "    }\n",
              "    40% {\n",
              "      border-color: transparent;\n",
              "      border-right-color: var(--fill-color);\n",
              "      border-top-color: var(--fill-color);\n",
              "    }\n",
              "    60% {\n",
              "      border-color: transparent;\n",
              "      border-right-color: var(--fill-color);\n",
              "    }\n",
              "    80% {\n",
              "      border-color: transparent;\n",
              "      border-right-color: var(--fill-color);\n",
              "      border-bottom-color: var(--fill-color);\n",
              "    }\n",
              "    90% {\n",
              "      border-color: transparent;\n",
              "      border-bottom-color: var(--fill-color);\n",
              "    }\n",
              "  }\n",
              "</style>\n",
              "\n",
              "      <script>\n",
              "        async function quickchart(key) {\n",
              "          const quickchartButtonEl =\n",
              "            document.querySelector('#' + key + ' button');\n",
              "          quickchartButtonEl.disabled = true;  // To prevent multiple clicks.\n",
              "          quickchartButtonEl.classList.add('colab-df-spinner');\n",
              "          try {\n",
              "            const charts = await google.colab.kernel.invokeFunction(\n",
              "                'suggestCharts', [key], {});\n",
              "          } catch (error) {\n",
              "            console.error('Error during call to suggestCharts:', error);\n",
              "          }\n",
              "          quickchartButtonEl.classList.remove('colab-df-spinner');\n",
              "          quickchartButtonEl.classList.add('colab-df-quickchart-complete');\n",
              "        }\n",
              "        (() => {\n",
              "          let quickchartButtonEl =\n",
              "            document.querySelector('#df-f933cc5a-dce3-4045-8212-94ddd196a0b8 button');\n",
              "          quickchartButtonEl.style.display =\n",
              "            google.colab.kernel.accessAllowed ? 'block' : 'none';\n",
              "        })();\n",
              "      </script>\n",
              "    </div>\n",
              "\n",
              "    </div>\n",
              "  </div>\n"
            ],
            "application/vnd.google.colaboratory.intrinsic+json": {
              "type": "dataframe",
              "variable_name": "sales"
            }
          },
          "metadata": {},
          "execution_count": 4
        }
      ],
      "source": [
        "# Load each CSV into a separate DataFrame\n",
        "categories = pd.read_csv(\"categories.csv\")\n",
        "cities = pd.read_csv(\"cities.csv\")\n",
        "countries = pd.read_csv(\"countries.csv\")\n",
        "customers = pd.read_csv(\"customers.csv\")\n",
        "employees = pd.read_csv(\"employees.csv\")\n",
        "products = pd.read_csv(\"products.csv\")\n",
        "sales = pd.read_csv(\"sales.csv\")\n",
        "\n",
        "#View Sales data\n",
        "sales.head()"
      ]
    },
    {
      "cell_type": "markdown",
      "metadata": {
        "id": "TuxOUH7633vU"
      },
      "source": [
        "# **Data Cleaning**"
      ]
    },
    {
      "cell_type": "markdown",
      "metadata": {
        "id": "jIRNfCI73mbh"
      },
      "source": [
        "### Dataset information"
      ]
    },
    {
      "cell_type": "code",
      "execution_count": 5,
      "metadata": {
        "colab": {
          "base_uri": "https://localhost:8080/"
        },
        "id": "2aSS9kQltl5K",
        "outputId": "fa301560-f2d4-4e39-b52b-f28ab7052e99"
      },
      "outputs": [
        {
          "output_type": "stream",
          "name": "stdout",
          "text": [
            "\n",
            "CATEGORIES\n",
            "<class 'pandas.core.frame.DataFrame'>\n",
            "RangeIndex: 11 entries, 0 to 10\n",
            "Data columns (total 2 columns):\n",
            " #   Column        Non-Null Count  Dtype \n",
            "---  ------        --------------  ----- \n",
            " 0   CategoryID    11 non-null     int64 \n",
            " 1   CategoryName  11 non-null     object\n",
            "dtypes: int64(1), object(1)\n",
            "memory usage: 308.0+ bytes\n",
            "None\n",
            "\n",
            "CITIES\n",
            "<class 'pandas.core.frame.DataFrame'>\n",
            "RangeIndex: 96 entries, 0 to 95\n",
            "Data columns (total 4 columns):\n",
            " #   Column     Non-Null Count  Dtype \n",
            "---  ------     --------------  ----- \n",
            " 0   CityID     96 non-null     int64 \n",
            " 1   CityName   96 non-null     object\n",
            " 2   Zipcode    96 non-null     int64 \n",
            " 3   CountryID  96 non-null     int64 \n",
            "dtypes: int64(3), object(1)\n",
            "memory usage: 3.1+ KB\n",
            "None\n",
            "\n",
            "COUNTRIES\n",
            "<class 'pandas.core.frame.DataFrame'>\n",
            "RangeIndex: 206 entries, 0 to 205\n",
            "Data columns (total 3 columns):\n",
            " #   Column       Non-Null Count  Dtype \n",
            "---  ------       --------------  ----- \n",
            " 0   CountryID    206 non-null    int64 \n",
            " 1   CountryName  206 non-null    object\n",
            " 2   CountryCode  205 non-null    object\n",
            "dtypes: int64(1), object(2)\n",
            "memory usage: 5.0+ KB\n",
            "None\n",
            "\n",
            "CUSTOMERS\n",
            "<class 'pandas.core.frame.DataFrame'>\n",
            "RangeIndex: 98759 entries, 0 to 98758\n",
            "Data columns (total 6 columns):\n",
            " #   Column         Non-Null Count  Dtype \n",
            "---  ------         --------------  ----- \n",
            " 0   CustomerID     98759 non-null  int64 \n",
            " 1   FirstName      98759 non-null  object\n",
            " 2   MiddleInitial  97782 non-null  object\n",
            " 3   LastName       98759 non-null  object\n",
            " 4   CityID         98759 non-null  int64 \n",
            " 5   Address        98759 non-null  object\n",
            "dtypes: int64(2), object(4)\n",
            "memory usage: 4.5+ MB\n",
            "None\n",
            "\n",
            "EMPLOYEES\n",
            "<class 'pandas.core.frame.DataFrame'>\n",
            "RangeIndex: 23 entries, 0 to 22\n",
            "Data columns (total 8 columns):\n",
            " #   Column         Non-Null Count  Dtype \n",
            "---  ------         --------------  ----- \n",
            " 0   EmployeeID     23 non-null     int64 \n",
            " 1   FirstName      23 non-null     object\n",
            " 2   MiddleInitial  23 non-null     object\n",
            " 3   LastName       23 non-null     object\n",
            " 4   BirthDate      23 non-null     object\n",
            " 5   Gender         23 non-null     object\n",
            " 6   CityID         23 non-null     int64 \n",
            " 7   HireDate       23 non-null     object\n",
            "dtypes: int64(2), object(6)\n",
            "memory usage: 1.6+ KB\n",
            "None\n",
            "\n",
            "PRODUCTS\n",
            "<class 'pandas.core.frame.DataFrame'>\n",
            "RangeIndex: 452 entries, 0 to 451\n",
            "Data columns (total 9 columns):\n",
            " #   Column        Non-Null Count  Dtype  \n",
            "---  ------        --------------  -----  \n",
            " 0   ProductID     452 non-null    int64  \n",
            " 1   ProductName   452 non-null    object \n",
            " 2   Price         452 non-null    float64\n",
            " 3   CategoryID    452 non-null    int64  \n",
            " 4   Class         452 non-null    object \n",
            " 5   ModifyDate    452 non-null    object \n",
            " 6   Resistant     452 non-null    object \n",
            " 7   IsAllergic    452 non-null    object \n",
            " 8   VitalityDays  452 non-null    float64\n",
            "dtypes: float64(2), int64(2), object(5)\n",
            "memory usage: 31.9+ KB\n",
            "None\n",
            "\n",
            "SALES\n",
            "<class 'pandas.core.frame.DataFrame'>\n",
            "RangeIndex: 6758125 entries, 0 to 6758124\n",
            "Data columns (total 9 columns):\n",
            " #   Column             Dtype  \n",
            "---  ------             -----  \n",
            " 0   SalesID            int64  \n",
            " 1   SalesPersonID      int64  \n",
            " 2   CustomerID         int64  \n",
            " 3   ProductID          int64  \n",
            " 4   Quantity           int64  \n",
            " 5   Discount           float64\n",
            " 6   TotalPrice         float64\n",
            " 7   SalesDate          object \n",
            " 8   TransactionNumber  object \n",
            "dtypes: float64(2), int64(5), object(2)\n",
            "memory usage: 464.0+ MB\n",
            "None\n"
          ]
        }
      ],
      "source": [
        "for name, df in {\n",
        "    \"categories\": categories,\n",
        "    \"cities\": cities,\n",
        "    \"countries\": countries,\n",
        "    \"customers\": customers,\n",
        "    \"employees\": employees,\n",
        "    \"products\": products,\n",
        "    \"sales\": sales\n",
        "}.items():\n",
        "    print(f\"\\n{name.upper()}\")\n",
        "    print(df.info())"
      ]
    },
    {
      "cell_type": "code",
      "execution_count": 6,
      "metadata": {
        "id": "WqkWO7_PlwWx"
      },
      "outputs": [],
      "source": [
        "# Handling missing values\n",
        "customers['MiddleInitial'] = customers['MiddleInitial'].fillna('X')\n",
        "countries['CountryCode'] = countries['CountryCode'].fillna('XX')\n",
        "#Convert data types\n",
        "products['VitalityDays'] = products['VitalityDays'].astype('int')"
      ]
    },
    {
      "cell_type": "code",
      "execution_count": 7,
      "metadata": {
        "id": "7hEXs25G3Cnw"
      },
      "outputs": [],
      "source": [
        "# Convert date fields\n",
        "employees['BirthDate'] = pd.to_datetime(employees['BirthDate'])\n",
        "employees['HireDate'] = pd.to_datetime(employees['HireDate'])\n",
        "products['ModifyDate'] = pd.to_datetime(products['ModifyDate'])\n",
        "sales['SalesDate'] = pd.to_datetime(sales['SalesDate'])"
      ]
    },
    {
      "cell_type": "code",
      "execution_count": 8,
      "metadata": {
        "colab": {
          "base_uri": "https://localhost:8080/"
        },
        "id": "u5cu3GrP-wkw",
        "outputId": "83fd2a7a-b74c-4d9f-c4bf-5159482ab892"
      },
      "outputs": [
        {
          "output_type": "stream",
          "name": "stdout",
          "text": [
            "customers: 0 duplicate rows\n",
            "employees: 0 duplicate rows\n",
            "products: 0 duplicate rows\n",
            "sales: 0 duplicate rows\n",
            "categories: 0 duplicate rows\n",
            "cities: 0 duplicate rows\n",
            "countries: 0 duplicate rows\n"
          ]
        }
      ],
      "source": [
        "# Check and drop duplicate rows\n",
        "for name, df in {\n",
        "    \"customers\": customers,\n",
        "    \"employees\": employees,\n",
        "    \"products\": products,\n",
        "    \"sales\": sales,\n",
        "    \"categories\": categories,\n",
        "    \"cities\": cities,\n",
        "    \"countries\": countries\n",
        "}.items():\n",
        "    duplicates = df.duplicated().sum()\n",
        "    print(f\"{name}: {duplicates} duplicate rows\")\n",
        "    df.drop_duplicates(inplace=True)"
      ]
    },
    {
      "cell_type": "code",
      "execution_count": 9,
      "metadata": {
        "colab": {
          "base_uri": "https://localhost:8080/"
        },
        "id": "GPWHIFa--4Vv",
        "outputId": "135f1d0c-a0f6-4db8-aac6-855cac0c5c0d"
      },
      "outputs": [
        {
          "output_type": "stream",
          "name": "stdout",
          "text": [
            "customers: 0 duplicate CustomerIDs\n",
            "employees: 0 duplicate EmployeeIDs\n",
            "products: 0 duplicate ProductIDs\n",
            "sales: 0 duplicate SalesIDs\n",
            "categories: 0 duplicate CategoryIDs\n",
            "cities: 0 duplicate CityIDs\n",
            "countries: 0 duplicate CountryIDs\n"
          ]
        }
      ],
      "source": [
        "# Check for duplicate IDs\n",
        "for name, df, key in [\n",
        "    (\"customers\", customers, 'CustomerID'),\n",
        "    (\"employees\", employees, 'EmployeeID'),\n",
        "    (\"products\", products, 'ProductID'),\n",
        "    (\"sales\", sales, 'SalesID'),\n",
        "    (\"categories\", categories, 'CategoryID'),\n",
        "    (\"cities\", cities, 'CityID'),\n",
        "    (\"countries\", countries, 'CountryID')\n",
        "]:\n",
        "    dup_ids = df.duplicated(subset=key).sum()\n",
        "    print(f\"{name}: {dup_ids} duplicate {key}s\")"
      ]
    },
    {
      "cell_type": "code",
      "execution_count": 10,
      "metadata": {
        "colab": {
          "base_uri": "https://localhost:8080/"
        },
        "id": "B2tWbwHlCv7_",
        "outputId": "c93d3130-43eb-4ba7-ca70-278100c4fe5f"
      },
      "outputs": [
        {
          "output_type": "stream",
          "name": "stdout",
          "text": [
            "CATEGORIES: (11, 2)\n",
            "CITIES: (96, 4)\n",
            "COUNTRIES: (206, 3)\n",
            "CUSTOMERS: (98759, 6)\n",
            "EMPLOYEES: (23, 8)\n",
            "PRODUCTS: (452, 9)\n",
            "SALES: (6758125, 9)\n"
          ]
        }
      ],
      "source": [
        "# Confirm structure\n",
        "for name, df in {\n",
        "    \"categories\": categories,\n",
        "    \"cities\": cities,\n",
        "    \"countries\": countries,\n",
        "    \"customers\": customers,\n",
        "    \"employees\": employees,\n",
        "    \"products\": products,\n",
        "    \"sales\": sales\n",
        "}.items():\n",
        "    print(f\"{name.upper()}: {df.shape}\")"
      ]
    },
    {
      "cell_type": "markdown",
      "metadata": {
        "id": "LEAtId3S4TB7"
      },
      "source": [
        "# **Outliers**"
      ]
    },
    {
      "cell_type": "code",
      "execution_count": 11,
      "metadata": {
        "id": "zRXWV8Fy_HLW"
      },
      "outputs": [],
      "source": [
        "# Helper function to detect outliers\n",
        "def detect_outliers_iqr(series):\n",
        "    Q1 = series.quantile(0.25)\n",
        "    Q3 = series.quantile(0.75)\n",
        "    IQR = Q3 - Q1\n",
        "    lower = Q1 - 1.5 * IQR\n",
        "    upper = Q3 + 1.5 * IQR\n",
        "    return (series < lower) | (series > upper)"
      ]
    },
    {
      "cell_type": "code",
      "execution_count": 12,
      "metadata": {
        "id": "qU5iunVX_onB"
      },
      "outputs": [],
      "source": [
        "# Detect outliers in key fields\n",
        "outliers = {\n",
        "    \"Quantity\": detect_outliers_iqr(sales['Quantity']),\n",
        "    \"Discount\": detect_outliers_iqr(sales['Discount']),\n",
        "    \"TotalPrice\": detect_outliers_iqr(sales['TotalPrice']),\n",
        "    \"Price\": detect_outliers_iqr(products['Price']),\n",
        "    \"VitalityDays\": detect_outliers_iqr(products['VitalityDays'])\n",
        "}"
      ]
    },
    {
      "cell_type": "code",
      "execution_count": 13,
      "metadata": {
        "colab": {
          "base_uri": "https://localhost:8080/"
        },
        "id": "lfeTQNrO_rV_",
        "outputId": "b56b60c3-ca4a-40f5-8eb4-5e3679963659"
      },
      "outputs": [
        {
          "output_type": "stream",
          "name": "stdout",
          "text": [
            "Quantity: 0 outliers\n",
            "Discount: 1351194 outliers\n",
            "TotalPrice: 0 outliers\n",
            "Price: 0 outliers\n",
            "VitalityDays: 0 outliers\n"
          ]
        }
      ],
      "source": [
        "# Summary of how many outliers found\n",
        "for key, mask in outliers.items():\n",
        "    count = mask.sum()\n",
        "    print(f\"{key}: {count} outliers\")"
      ]
    },
    {
      "cell_type": "code",
      "execution_count": 14,
      "metadata": {
        "colab": {
          "base_uri": "https://localhost:8080/"
        },
        "id": "7rFR8-jL_tvS",
        "outputId": "bd14214c-df61-48b4-8cec-440a5f33bd98"
      },
      "outputs": [
        {
          "output_type": "stream",
          "name": "stdout",
          "text": [
            "Min: 0.0\n",
            "Max: 0.2\n",
            "Unique values (top 10): Discount\n",
            "0.0    5406931\n",
            "0.1     677122\n",
            "0.2     674072\n",
            "Name: count, dtype: int64\n"
          ]
        }
      ],
      "source": [
        "# Investigate Discount Distribution\n",
        "print(\"Min:\", sales['Discount'].min())\n",
        "print(\"Max:\", sales['Discount'].max())\n",
        "print(\"Unique values (top 10):\", sales['Discount'].value_counts().head(10))"
      ]
    },
    {
      "cell_type": "markdown",
      "metadata": {
        "id": "MFgORggD_t_8"
      },
      "source": [
        "Even though the IQR method flagged ~1.3M rows as “outliers,” these are not bad values — they’re simply valid, higher-than-normal discounts.\n",
        "\n",
        "IQR outlier detection is purely statistical — it doesn’t know business logic.\n",
        "\n",
        "Since most discounts are 0.0, even valid 10% and 20% entries look \"extreme\" compared to the majority.\n",
        "\n",
        "From a retail business perspective, 10% and 20% discounts are common promotions, not outliers.\n",
        "\n",
        "So concluding there is no outliers present."
      ]
    },
    {
      "cell_type": "markdown",
      "metadata": {
        "id": "Vjjx770TAW6e"
      },
      "source": [
        "## **Merging Datasets**"
      ]
    },
    {
      "cell_type": "code",
      "execution_count": 15,
      "metadata": {
        "id": "-rO8pWcZAbj1"
      },
      "outputs": [],
      "source": [
        "# Merge product price\n",
        "sales = sales.merge(products[['ProductID', 'Price']], on='ProductID', how='left')"
      ]
    },
    {
      "cell_type": "code",
      "execution_count": 16,
      "metadata": {
        "id": "vr3gTi1DDq_R"
      },
      "outputs": [],
      "source": [
        "# Compute total revenue per sale (Adding new column - Revenue)\n",
        "sales['Revenue'] = sales['Price'] * sales['Quantity'] * (1 - sales['Discount'])"
      ]
    },
    {
      "cell_type": "code",
      "execution_count": 17,
      "metadata": {
        "colab": {
          "base_uri": "https://localhost:8080/",
          "height": 363
        },
        "id": "itHmS-IwET0s",
        "outputId": "8b4c59e7-ba79-4582-a006-3849ea05e2c3"
      },
      "outputs": [
        {
          "output_type": "execute_result",
          "data": {
            "text/plain": [
              "   SalesID  ProductID    Price  Quantity  Discount     Revenue\n",
              "0        1        381  44.2337         7       0.0   309.63590\n",
              "1        2         61  62.5460         7       0.0   437.82200\n",
              "2        3         23  79.0184        24       0.0  1896.44160\n",
              "3        4        176  81.3167        19       0.2  1236.01384\n",
              "4        5        310  79.9780         9       0.0   719.80200\n",
              "5        6        413  95.4065         8       0.0   763.25200\n",
              "6        7        370  21.8806        12       0.0   262.56720\n",
              "7        8        287  57.7090         4       0.2   184.66880\n",
              "8        9        124  18.2891        23       0.0   420.64930\n",
              "9       10        346  17.1914        17       0.2   233.80304"
            ],
            "text/html": [
              "\n",
              "  <div id=\"df-40393545-52f1-4e21-a9b2-01ad879c0fd5\" class=\"colab-df-container\">\n",
              "    <div>\n",
              "<style scoped>\n",
              "    .dataframe tbody tr th:only-of-type {\n",
              "        vertical-align: middle;\n",
              "    }\n",
              "\n",
              "    .dataframe tbody tr th {\n",
              "        vertical-align: top;\n",
              "    }\n",
              "\n",
              "    .dataframe thead th {\n",
              "        text-align: right;\n",
              "    }\n",
              "</style>\n",
              "<table border=\"1\" class=\"dataframe\">\n",
              "  <thead>\n",
              "    <tr style=\"text-align: right;\">\n",
              "      <th></th>\n",
              "      <th>SalesID</th>\n",
              "      <th>ProductID</th>\n",
              "      <th>Price</th>\n",
              "      <th>Quantity</th>\n",
              "      <th>Discount</th>\n",
              "      <th>Revenue</th>\n",
              "    </tr>\n",
              "  </thead>\n",
              "  <tbody>\n",
              "    <tr>\n",
              "      <th>0</th>\n",
              "      <td>1</td>\n",
              "      <td>381</td>\n",
              "      <td>44.2337</td>\n",
              "      <td>7</td>\n",
              "      <td>0.0</td>\n",
              "      <td>309.63590</td>\n",
              "    </tr>\n",
              "    <tr>\n",
              "      <th>1</th>\n",
              "      <td>2</td>\n",
              "      <td>61</td>\n",
              "      <td>62.5460</td>\n",
              "      <td>7</td>\n",
              "      <td>0.0</td>\n",
              "      <td>437.82200</td>\n",
              "    </tr>\n",
              "    <tr>\n",
              "      <th>2</th>\n",
              "      <td>3</td>\n",
              "      <td>23</td>\n",
              "      <td>79.0184</td>\n",
              "      <td>24</td>\n",
              "      <td>0.0</td>\n",
              "      <td>1896.44160</td>\n",
              "    </tr>\n",
              "    <tr>\n",
              "      <th>3</th>\n",
              "      <td>4</td>\n",
              "      <td>176</td>\n",
              "      <td>81.3167</td>\n",
              "      <td>19</td>\n",
              "      <td>0.2</td>\n",
              "      <td>1236.01384</td>\n",
              "    </tr>\n",
              "    <tr>\n",
              "      <th>4</th>\n",
              "      <td>5</td>\n",
              "      <td>310</td>\n",
              "      <td>79.9780</td>\n",
              "      <td>9</td>\n",
              "      <td>0.0</td>\n",
              "      <td>719.80200</td>\n",
              "    </tr>\n",
              "    <tr>\n",
              "      <th>5</th>\n",
              "      <td>6</td>\n",
              "      <td>413</td>\n",
              "      <td>95.4065</td>\n",
              "      <td>8</td>\n",
              "      <td>0.0</td>\n",
              "      <td>763.25200</td>\n",
              "    </tr>\n",
              "    <tr>\n",
              "      <th>6</th>\n",
              "      <td>7</td>\n",
              "      <td>370</td>\n",
              "      <td>21.8806</td>\n",
              "      <td>12</td>\n",
              "      <td>0.0</td>\n",
              "      <td>262.56720</td>\n",
              "    </tr>\n",
              "    <tr>\n",
              "      <th>7</th>\n",
              "      <td>8</td>\n",
              "      <td>287</td>\n",
              "      <td>57.7090</td>\n",
              "      <td>4</td>\n",
              "      <td>0.2</td>\n",
              "      <td>184.66880</td>\n",
              "    </tr>\n",
              "    <tr>\n",
              "      <th>8</th>\n",
              "      <td>9</td>\n",
              "      <td>124</td>\n",
              "      <td>18.2891</td>\n",
              "      <td>23</td>\n",
              "      <td>0.0</td>\n",
              "      <td>420.64930</td>\n",
              "    </tr>\n",
              "    <tr>\n",
              "      <th>9</th>\n",
              "      <td>10</td>\n",
              "      <td>346</td>\n",
              "      <td>17.1914</td>\n",
              "      <td>17</td>\n",
              "      <td>0.2</td>\n",
              "      <td>233.80304</td>\n",
              "    </tr>\n",
              "  </tbody>\n",
              "</table>\n",
              "</div>\n",
              "    <div class=\"colab-df-buttons\">\n",
              "\n",
              "  <div class=\"colab-df-container\">\n",
              "    <button class=\"colab-df-convert\" onclick=\"convertToInteractive('df-40393545-52f1-4e21-a9b2-01ad879c0fd5')\"\n",
              "            title=\"Convert this dataframe to an interactive table.\"\n",
              "            style=\"display:none;\">\n",
              "\n",
              "  <svg xmlns=\"http://www.w3.org/2000/svg\" height=\"24px\" viewBox=\"0 -960 960 960\">\n",
              "    <path d=\"M120-120v-720h720v720H120Zm60-500h600v-160H180v160Zm220 220h160v-160H400v160Zm0 220h160v-160H400v160ZM180-400h160v-160H180v160Zm440 0h160v-160H620v160ZM180-180h160v-160H180v160Zm440 0h160v-160H620v160Z\"/>\n",
              "  </svg>\n",
              "    </button>\n",
              "\n",
              "  <style>\n",
              "    .colab-df-container {\n",
              "      display:flex;\n",
              "      gap: 12px;\n",
              "    }\n",
              "\n",
              "    .colab-df-convert {\n",
              "      background-color: #E8F0FE;\n",
              "      border: none;\n",
              "      border-radius: 50%;\n",
              "      cursor: pointer;\n",
              "      display: none;\n",
              "      fill: #1967D2;\n",
              "      height: 32px;\n",
              "      padding: 0 0 0 0;\n",
              "      width: 32px;\n",
              "    }\n",
              "\n",
              "    .colab-df-convert:hover {\n",
              "      background-color: #E2EBFA;\n",
              "      box-shadow: 0px 1px 2px rgba(60, 64, 67, 0.3), 0px 1px 3px 1px rgba(60, 64, 67, 0.15);\n",
              "      fill: #174EA6;\n",
              "    }\n",
              "\n",
              "    .colab-df-buttons div {\n",
              "      margin-bottom: 4px;\n",
              "    }\n",
              "\n",
              "    [theme=dark] .colab-df-convert {\n",
              "      background-color: #3B4455;\n",
              "      fill: #D2E3FC;\n",
              "    }\n",
              "\n",
              "    [theme=dark] .colab-df-convert:hover {\n",
              "      background-color: #434B5C;\n",
              "      box-shadow: 0px 1px 3px 1px rgba(0, 0, 0, 0.15);\n",
              "      filter: drop-shadow(0px 1px 2px rgba(0, 0, 0, 0.3));\n",
              "      fill: #FFFFFF;\n",
              "    }\n",
              "  </style>\n",
              "\n",
              "    <script>\n",
              "      const buttonEl =\n",
              "        document.querySelector('#df-40393545-52f1-4e21-a9b2-01ad879c0fd5 button.colab-df-convert');\n",
              "      buttonEl.style.display =\n",
              "        google.colab.kernel.accessAllowed ? 'block' : 'none';\n",
              "\n",
              "      async function convertToInteractive(key) {\n",
              "        const element = document.querySelector('#df-40393545-52f1-4e21-a9b2-01ad879c0fd5');\n",
              "        const dataTable =\n",
              "          await google.colab.kernel.invokeFunction('convertToInteractive',\n",
              "                                                    [key], {});\n",
              "        if (!dataTable) return;\n",
              "\n",
              "        const docLinkHtml = 'Like what you see? Visit the ' +\n",
              "          '<a target=\"_blank\" href=https://colab.research.google.com/notebooks/data_table.ipynb>data table notebook</a>'\n",
              "          + ' to learn more about interactive tables.';\n",
              "        element.innerHTML = '';\n",
              "        dataTable['output_type'] = 'display_data';\n",
              "        await google.colab.output.renderOutput(dataTable, element);\n",
              "        const docLink = document.createElement('div');\n",
              "        docLink.innerHTML = docLinkHtml;\n",
              "        element.appendChild(docLink);\n",
              "      }\n",
              "    </script>\n",
              "  </div>\n",
              "\n",
              "\n",
              "    <div id=\"df-15821ff6-5181-4a63-8e15-586d33da439b\">\n",
              "      <button class=\"colab-df-quickchart\" onclick=\"quickchart('df-15821ff6-5181-4a63-8e15-586d33da439b')\"\n",
              "                title=\"Suggest charts\"\n",
              "                style=\"display:none;\">\n",
              "\n",
              "<svg xmlns=\"http://www.w3.org/2000/svg\" height=\"24px\"viewBox=\"0 0 24 24\"\n",
              "     width=\"24px\">\n",
              "    <g>\n",
              "        <path d=\"M19 3H5c-1.1 0-2 .9-2 2v14c0 1.1.9 2 2 2h14c1.1 0 2-.9 2-2V5c0-1.1-.9-2-2-2zM9 17H7v-7h2v7zm4 0h-2V7h2v10zm4 0h-2v-4h2v4z\"/>\n",
              "    </g>\n",
              "</svg>\n",
              "      </button>\n",
              "\n",
              "<style>\n",
              "  .colab-df-quickchart {\n",
              "      --bg-color: #E8F0FE;\n",
              "      --fill-color: #1967D2;\n",
              "      --hover-bg-color: #E2EBFA;\n",
              "      --hover-fill-color: #174EA6;\n",
              "      --disabled-fill-color: #AAA;\n",
              "      --disabled-bg-color: #DDD;\n",
              "  }\n",
              "\n",
              "  [theme=dark] .colab-df-quickchart {\n",
              "      --bg-color: #3B4455;\n",
              "      --fill-color: #D2E3FC;\n",
              "      --hover-bg-color: #434B5C;\n",
              "      --hover-fill-color: #FFFFFF;\n",
              "      --disabled-bg-color: #3B4455;\n",
              "      --disabled-fill-color: #666;\n",
              "  }\n",
              "\n",
              "  .colab-df-quickchart {\n",
              "    background-color: var(--bg-color);\n",
              "    border: none;\n",
              "    border-radius: 50%;\n",
              "    cursor: pointer;\n",
              "    display: none;\n",
              "    fill: var(--fill-color);\n",
              "    height: 32px;\n",
              "    padding: 0;\n",
              "    width: 32px;\n",
              "  }\n",
              "\n",
              "  .colab-df-quickchart:hover {\n",
              "    background-color: var(--hover-bg-color);\n",
              "    box-shadow: 0 1px 2px rgba(60, 64, 67, 0.3), 0 1px 3px 1px rgba(60, 64, 67, 0.15);\n",
              "    fill: var(--button-hover-fill-color);\n",
              "  }\n",
              "\n",
              "  .colab-df-quickchart-complete:disabled,\n",
              "  .colab-df-quickchart-complete:disabled:hover {\n",
              "    background-color: var(--disabled-bg-color);\n",
              "    fill: var(--disabled-fill-color);\n",
              "    box-shadow: none;\n",
              "  }\n",
              "\n",
              "  .colab-df-spinner {\n",
              "    border: 2px solid var(--fill-color);\n",
              "    border-color: transparent;\n",
              "    border-bottom-color: var(--fill-color);\n",
              "    animation:\n",
              "      spin 1s steps(1) infinite;\n",
              "  }\n",
              "\n",
              "  @keyframes spin {\n",
              "    0% {\n",
              "      border-color: transparent;\n",
              "      border-bottom-color: var(--fill-color);\n",
              "      border-left-color: var(--fill-color);\n",
              "    }\n",
              "    20% {\n",
              "      border-color: transparent;\n",
              "      border-left-color: var(--fill-color);\n",
              "      border-top-color: var(--fill-color);\n",
              "    }\n",
              "    30% {\n",
              "      border-color: transparent;\n",
              "      border-left-color: var(--fill-color);\n",
              "      border-top-color: var(--fill-color);\n",
              "      border-right-color: var(--fill-color);\n",
              "    }\n",
              "    40% {\n",
              "      border-color: transparent;\n",
              "      border-right-color: var(--fill-color);\n",
              "      border-top-color: var(--fill-color);\n",
              "    }\n",
              "    60% {\n",
              "      border-color: transparent;\n",
              "      border-right-color: var(--fill-color);\n",
              "    }\n",
              "    80% {\n",
              "      border-color: transparent;\n",
              "      border-right-color: var(--fill-color);\n",
              "      border-bottom-color: var(--fill-color);\n",
              "    }\n",
              "    90% {\n",
              "      border-color: transparent;\n",
              "      border-bottom-color: var(--fill-color);\n",
              "    }\n",
              "  }\n",
              "</style>\n",
              "\n",
              "      <script>\n",
              "        async function quickchart(key) {\n",
              "          const quickchartButtonEl =\n",
              "            document.querySelector('#' + key + ' button');\n",
              "          quickchartButtonEl.disabled = true;  // To prevent multiple clicks.\n",
              "          quickchartButtonEl.classList.add('colab-df-spinner');\n",
              "          try {\n",
              "            const charts = await google.colab.kernel.invokeFunction(\n",
              "                'suggestCharts', [key], {});\n",
              "          } catch (error) {\n",
              "            console.error('Error during call to suggestCharts:', error);\n",
              "          }\n",
              "          quickchartButtonEl.classList.remove('colab-df-spinner');\n",
              "          quickchartButtonEl.classList.add('colab-df-quickchart-complete');\n",
              "        }\n",
              "        (() => {\n",
              "          let quickchartButtonEl =\n",
              "            document.querySelector('#df-15821ff6-5181-4a63-8e15-586d33da439b button');\n",
              "          quickchartButtonEl.style.display =\n",
              "            google.colab.kernel.accessAllowed ? 'block' : 'none';\n",
              "        })();\n",
              "      </script>\n",
              "    </div>\n",
              "\n",
              "    </div>\n",
              "  </div>\n"
            ],
            "application/vnd.google.colaboratory.intrinsic+json": {
              "type": "dataframe",
              "summary": "{\n  \"name\": \"sales[['SalesID', 'ProductID', 'Price', 'Quantity', 'Discount', 'Revenue']]\",\n  \"rows\": 10,\n  \"fields\": [\n    {\n      \"column\": \"SalesID\",\n      \"properties\": {\n        \"dtype\": \"number\",\n        \"std\": 3,\n        \"min\": 1,\n        \"max\": 10,\n        \"num_unique_values\": 10,\n        \"samples\": [\n          9,\n          2,\n          6\n        ],\n        \"semantic_type\": \"\",\n        \"description\": \"\"\n      }\n    },\n    {\n      \"column\": \"ProductID\",\n      \"properties\": {\n        \"dtype\": \"number\",\n        \"std\": 141,\n        \"min\": 23,\n        \"max\": 413,\n        \"num_unique_values\": 10,\n        \"samples\": [\n          124,\n          61,\n          413\n        ],\n        \"semantic_type\": \"\",\n        \"description\": \"\"\n      }\n    },\n    {\n      \"column\": \"Price\",\n      \"properties\": {\n        \"dtype\": \"number\",\n        \"std\": 29.01068282907752,\n        \"min\": 17.1914,\n        \"max\": 95.4065,\n        \"num_unique_values\": 10,\n        \"samples\": [\n          18.2891,\n          62.546,\n          95.4065\n        ],\n        \"semantic_type\": \"\",\n        \"description\": \"\"\n      }\n    },\n    {\n      \"column\": \"Quantity\",\n      \"properties\": {\n        \"dtype\": \"number\",\n        \"std\": 7,\n        \"min\": 4,\n        \"max\": 24,\n        \"num_unique_values\": 9,\n        \"samples\": [\n          23,\n          24,\n          12\n        ],\n        \"semantic_type\": \"\",\n        \"description\": \"\"\n      }\n    },\n    {\n      \"column\": \"Discount\",\n      \"properties\": {\n        \"dtype\": \"number\",\n        \"std\": 0.0966091783079296,\n        \"min\": 0.0,\n        \"max\": 0.2,\n        \"num_unique_values\": 2,\n        \"samples\": [\n          0.2,\n          0.0\n        ],\n        \"semantic_type\": \"\",\n        \"description\": \"\"\n      }\n    },\n    {\n      \"column\": \"Revenue\",\n      \"properties\": {\n        \"dtype\": \"number\",\n        \"std\": 544.4598212969439,\n        \"min\": 184.66880000000003,\n        \"max\": 1896.4416,\n        \"num_unique_values\": 10,\n        \"samples\": [\n          420.64930000000004,\n          437.822\n        ],\n        \"semantic_type\": \"\",\n        \"description\": \"\"\n      }\n    }\n  ]\n}"
            }
          },
          "metadata": {},
          "execution_count": 17
        }
      ],
      "source": [
        "# View the Revenue column with some related details\n",
        "sales[['SalesID', 'ProductID', 'Price', 'Quantity', 'Discount', 'Revenue']].head(10)"
      ]
    },
    {
      "cell_type": "code",
      "execution_count": 18,
      "metadata": {
        "id": "yq5oKmgVD96_"
      },
      "outputs": [],
      "source": [
        "# Merge customer and city data\n",
        "sales = sales.merge(customers[['CustomerID', 'CityID']], on='CustomerID', how='left')\n",
        "sales = sales.merge(cities[['CityID', 'Zipcode']], on='CityID', how='left')  # Zipcode = population"
      ]
    },
    {
      "cell_type": "code",
      "execution_count": 19,
      "metadata": {
        "id": "kmQ_fECoEA78"
      },
      "outputs": [],
      "source": [
        "# Compute city-level revenue per capita\n",
        "city_revenue = sales.groupby('CityID').agg({\n",
        "    'Revenue': 'sum',\n",
        "    'Zipcode': 'first'\n",
        "}).reset_index()\n",
        "city_revenue['RevenuePerCapita'] = city_revenue['Revenue'] / city_revenue['Zipcode']"
      ]
    },
    {
      "cell_type": "code",
      "execution_count": 20,
      "metadata": {
        "colab": {
          "base_uri": "https://localhost:8080/",
          "height": 363
        },
        "id": "FlH-Tp99EE2u",
        "outputId": "eeab762a-4c50-4b16-f4dc-578e63b71f44"
      },
      "outputs": [
        {
          "output_type": "execute_result",
          "data": {
            "text/plain": [
              "    CityID       Revenue  Zipcode  RevenuePerCapita\n",
              "46      47  4.322182e+07      157     275298.226138\n",
              "69      70  4.667939e+07      415     112480.446605\n",
              "5        6  4.448886e+07      781      56963.964947\n",
              "6        7  4.390378e+07     1439      30509.922752\n",
              "74      75  4.711717e+07     3863      12197.040861\n",
              "76      77  4.506382e+07     4409      10220.871912\n",
              "60      61  4.532078e+07     6794       6670.706275\n",
              "93      94  4.675141e+07     7430       6292.248887\n",
              "48      49  4.606808e+07     8944       5150.724438\n",
              "7        8  4.627571e+07    12654       3657.002367"
            ],
            "text/html": [
              "\n",
              "  <div id=\"df-98a409f0-949e-4495-9441-00832e7918dd\" class=\"colab-df-container\">\n",
              "    <div>\n",
              "<style scoped>\n",
              "    .dataframe tbody tr th:only-of-type {\n",
              "        vertical-align: middle;\n",
              "    }\n",
              "\n",
              "    .dataframe tbody tr th {\n",
              "        vertical-align: top;\n",
              "    }\n",
              "\n",
              "    .dataframe thead th {\n",
              "        text-align: right;\n",
              "    }\n",
              "</style>\n",
              "<table border=\"1\" class=\"dataframe\">\n",
              "  <thead>\n",
              "    <tr style=\"text-align: right;\">\n",
              "      <th></th>\n",
              "      <th>CityID</th>\n",
              "      <th>Revenue</th>\n",
              "      <th>Zipcode</th>\n",
              "      <th>RevenuePerCapita</th>\n",
              "    </tr>\n",
              "  </thead>\n",
              "  <tbody>\n",
              "    <tr>\n",
              "      <th>46</th>\n",
              "      <td>47</td>\n",
              "      <td>4.322182e+07</td>\n",
              "      <td>157</td>\n",
              "      <td>275298.226138</td>\n",
              "    </tr>\n",
              "    <tr>\n",
              "      <th>69</th>\n",
              "      <td>70</td>\n",
              "      <td>4.667939e+07</td>\n",
              "      <td>415</td>\n",
              "      <td>112480.446605</td>\n",
              "    </tr>\n",
              "    <tr>\n",
              "      <th>5</th>\n",
              "      <td>6</td>\n",
              "      <td>4.448886e+07</td>\n",
              "      <td>781</td>\n",
              "      <td>56963.964947</td>\n",
              "    </tr>\n",
              "    <tr>\n",
              "      <th>6</th>\n",
              "      <td>7</td>\n",
              "      <td>4.390378e+07</td>\n",
              "      <td>1439</td>\n",
              "      <td>30509.922752</td>\n",
              "    </tr>\n",
              "    <tr>\n",
              "      <th>74</th>\n",
              "      <td>75</td>\n",
              "      <td>4.711717e+07</td>\n",
              "      <td>3863</td>\n",
              "      <td>12197.040861</td>\n",
              "    </tr>\n",
              "    <tr>\n",
              "      <th>76</th>\n",
              "      <td>77</td>\n",
              "      <td>4.506382e+07</td>\n",
              "      <td>4409</td>\n",
              "      <td>10220.871912</td>\n",
              "    </tr>\n",
              "    <tr>\n",
              "      <th>60</th>\n",
              "      <td>61</td>\n",
              "      <td>4.532078e+07</td>\n",
              "      <td>6794</td>\n",
              "      <td>6670.706275</td>\n",
              "    </tr>\n",
              "    <tr>\n",
              "      <th>93</th>\n",
              "      <td>94</td>\n",
              "      <td>4.675141e+07</td>\n",
              "      <td>7430</td>\n",
              "      <td>6292.248887</td>\n",
              "    </tr>\n",
              "    <tr>\n",
              "      <th>48</th>\n",
              "      <td>49</td>\n",
              "      <td>4.606808e+07</td>\n",
              "      <td>8944</td>\n",
              "      <td>5150.724438</td>\n",
              "    </tr>\n",
              "    <tr>\n",
              "      <th>7</th>\n",
              "      <td>8</td>\n",
              "      <td>4.627571e+07</td>\n",
              "      <td>12654</td>\n",
              "      <td>3657.002367</td>\n",
              "    </tr>\n",
              "  </tbody>\n",
              "</table>\n",
              "</div>\n",
              "    <div class=\"colab-df-buttons\">\n",
              "\n",
              "  <div class=\"colab-df-container\">\n",
              "    <button class=\"colab-df-convert\" onclick=\"convertToInteractive('df-98a409f0-949e-4495-9441-00832e7918dd')\"\n",
              "            title=\"Convert this dataframe to an interactive table.\"\n",
              "            style=\"display:none;\">\n",
              "\n",
              "  <svg xmlns=\"http://www.w3.org/2000/svg\" height=\"24px\" viewBox=\"0 -960 960 960\">\n",
              "    <path d=\"M120-120v-720h720v720H120Zm60-500h600v-160H180v160Zm220 220h160v-160H400v160Zm0 220h160v-160H400v160ZM180-400h160v-160H180v160Zm440 0h160v-160H620v160ZM180-180h160v-160H180v160Zm440 0h160v-160H620v160Z\"/>\n",
              "  </svg>\n",
              "    </button>\n",
              "\n",
              "  <style>\n",
              "    .colab-df-container {\n",
              "      display:flex;\n",
              "      gap: 12px;\n",
              "    }\n",
              "\n",
              "    .colab-df-convert {\n",
              "      background-color: #E8F0FE;\n",
              "      border: none;\n",
              "      border-radius: 50%;\n",
              "      cursor: pointer;\n",
              "      display: none;\n",
              "      fill: #1967D2;\n",
              "      height: 32px;\n",
              "      padding: 0 0 0 0;\n",
              "      width: 32px;\n",
              "    }\n",
              "\n",
              "    .colab-df-convert:hover {\n",
              "      background-color: #E2EBFA;\n",
              "      box-shadow: 0px 1px 2px rgba(60, 64, 67, 0.3), 0px 1px 3px 1px rgba(60, 64, 67, 0.15);\n",
              "      fill: #174EA6;\n",
              "    }\n",
              "\n",
              "    .colab-df-buttons div {\n",
              "      margin-bottom: 4px;\n",
              "    }\n",
              "\n",
              "    [theme=dark] .colab-df-convert {\n",
              "      background-color: #3B4455;\n",
              "      fill: #D2E3FC;\n",
              "    }\n",
              "\n",
              "    [theme=dark] .colab-df-convert:hover {\n",
              "      background-color: #434B5C;\n",
              "      box-shadow: 0px 1px 3px 1px rgba(0, 0, 0, 0.15);\n",
              "      filter: drop-shadow(0px 1px 2px rgba(0, 0, 0, 0.3));\n",
              "      fill: #FFFFFF;\n",
              "    }\n",
              "  </style>\n",
              "\n",
              "    <script>\n",
              "      const buttonEl =\n",
              "        document.querySelector('#df-98a409f0-949e-4495-9441-00832e7918dd button.colab-df-convert');\n",
              "      buttonEl.style.display =\n",
              "        google.colab.kernel.accessAllowed ? 'block' : 'none';\n",
              "\n",
              "      async function convertToInteractive(key) {\n",
              "        const element = document.querySelector('#df-98a409f0-949e-4495-9441-00832e7918dd');\n",
              "        const dataTable =\n",
              "          await google.colab.kernel.invokeFunction('convertToInteractive',\n",
              "                                                    [key], {});\n",
              "        if (!dataTable) return;\n",
              "\n",
              "        const docLinkHtml = 'Like what you see? Visit the ' +\n",
              "          '<a target=\"_blank\" href=https://colab.research.google.com/notebooks/data_table.ipynb>data table notebook</a>'\n",
              "          + ' to learn more about interactive tables.';\n",
              "        element.innerHTML = '';\n",
              "        dataTable['output_type'] = 'display_data';\n",
              "        await google.colab.output.renderOutput(dataTable, element);\n",
              "        const docLink = document.createElement('div');\n",
              "        docLink.innerHTML = docLinkHtml;\n",
              "        element.appendChild(docLink);\n",
              "      }\n",
              "    </script>\n",
              "  </div>\n",
              "\n",
              "\n",
              "    <div id=\"df-73e79fb4-f881-4a46-812d-8973ff349fa1\">\n",
              "      <button class=\"colab-df-quickchart\" onclick=\"quickchart('df-73e79fb4-f881-4a46-812d-8973ff349fa1')\"\n",
              "                title=\"Suggest charts\"\n",
              "                style=\"display:none;\">\n",
              "\n",
              "<svg xmlns=\"http://www.w3.org/2000/svg\" height=\"24px\"viewBox=\"0 0 24 24\"\n",
              "     width=\"24px\">\n",
              "    <g>\n",
              "        <path d=\"M19 3H5c-1.1 0-2 .9-2 2v14c0 1.1.9 2 2 2h14c1.1 0 2-.9 2-2V5c0-1.1-.9-2-2-2zM9 17H7v-7h2v7zm4 0h-2V7h2v10zm4 0h-2v-4h2v4z\"/>\n",
              "    </g>\n",
              "</svg>\n",
              "      </button>\n",
              "\n",
              "<style>\n",
              "  .colab-df-quickchart {\n",
              "      --bg-color: #E8F0FE;\n",
              "      --fill-color: #1967D2;\n",
              "      --hover-bg-color: #E2EBFA;\n",
              "      --hover-fill-color: #174EA6;\n",
              "      --disabled-fill-color: #AAA;\n",
              "      --disabled-bg-color: #DDD;\n",
              "  }\n",
              "\n",
              "  [theme=dark] .colab-df-quickchart {\n",
              "      --bg-color: #3B4455;\n",
              "      --fill-color: #D2E3FC;\n",
              "      --hover-bg-color: #434B5C;\n",
              "      --hover-fill-color: #FFFFFF;\n",
              "      --disabled-bg-color: #3B4455;\n",
              "      --disabled-fill-color: #666;\n",
              "  }\n",
              "\n",
              "  .colab-df-quickchart {\n",
              "    background-color: var(--bg-color);\n",
              "    border: none;\n",
              "    border-radius: 50%;\n",
              "    cursor: pointer;\n",
              "    display: none;\n",
              "    fill: var(--fill-color);\n",
              "    height: 32px;\n",
              "    padding: 0;\n",
              "    width: 32px;\n",
              "  }\n",
              "\n",
              "  .colab-df-quickchart:hover {\n",
              "    background-color: var(--hover-bg-color);\n",
              "    box-shadow: 0 1px 2px rgba(60, 64, 67, 0.3), 0 1px 3px 1px rgba(60, 64, 67, 0.15);\n",
              "    fill: var(--button-hover-fill-color);\n",
              "  }\n",
              "\n",
              "  .colab-df-quickchart-complete:disabled,\n",
              "  .colab-df-quickchart-complete:disabled:hover {\n",
              "    background-color: var(--disabled-bg-color);\n",
              "    fill: var(--disabled-fill-color);\n",
              "    box-shadow: none;\n",
              "  }\n",
              "\n",
              "  .colab-df-spinner {\n",
              "    border: 2px solid var(--fill-color);\n",
              "    border-color: transparent;\n",
              "    border-bottom-color: var(--fill-color);\n",
              "    animation:\n",
              "      spin 1s steps(1) infinite;\n",
              "  }\n",
              "\n",
              "  @keyframes spin {\n",
              "    0% {\n",
              "      border-color: transparent;\n",
              "      border-bottom-color: var(--fill-color);\n",
              "      border-left-color: var(--fill-color);\n",
              "    }\n",
              "    20% {\n",
              "      border-color: transparent;\n",
              "      border-left-color: var(--fill-color);\n",
              "      border-top-color: var(--fill-color);\n",
              "    }\n",
              "    30% {\n",
              "      border-color: transparent;\n",
              "      border-left-color: var(--fill-color);\n",
              "      border-top-color: var(--fill-color);\n",
              "      border-right-color: var(--fill-color);\n",
              "    }\n",
              "    40% {\n",
              "      border-color: transparent;\n",
              "      border-right-color: var(--fill-color);\n",
              "      border-top-color: var(--fill-color);\n",
              "    }\n",
              "    60% {\n",
              "      border-color: transparent;\n",
              "      border-right-color: var(--fill-color);\n",
              "    }\n",
              "    80% {\n",
              "      border-color: transparent;\n",
              "      border-right-color: var(--fill-color);\n",
              "      border-bottom-color: var(--fill-color);\n",
              "    }\n",
              "    90% {\n",
              "      border-color: transparent;\n",
              "      border-bottom-color: var(--fill-color);\n",
              "    }\n",
              "  }\n",
              "</style>\n",
              "\n",
              "      <script>\n",
              "        async function quickchart(key) {\n",
              "          const quickchartButtonEl =\n",
              "            document.querySelector('#' + key + ' button');\n",
              "          quickchartButtonEl.disabled = true;  // To prevent multiple clicks.\n",
              "          quickchartButtonEl.classList.add('colab-df-spinner');\n",
              "          try {\n",
              "            const charts = await google.colab.kernel.invokeFunction(\n",
              "                'suggestCharts', [key], {});\n",
              "          } catch (error) {\n",
              "            console.error('Error during call to suggestCharts:', error);\n",
              "          }\n",
              "          quickchartButtonEl.classList.remove('colab-df-spinner');\n",
              "          quickchartButtonEl.classList.add('colab-df-quickchart-complete');\n",
              "        }\n",
              "        (() => {\n",
              "          let quickchartButtonEl =\n",
              "            document.querySelector('#df-73e79fb4-f881-4a46-812d-8973ff349fa1 button');\n",
              "          quickchartButtonEl.style.display =\n",
              "            google.colab.kernel.accessAllowed ? 'block' : 'none';\n",
              "        })();\n",
              "      </script>\n",
              "    </div>\n",
              "\n",
              "    </div>\n",
              "  </div>\n"
            ],
            "application/vnd.google.colaboratory.intrinsic+json": {
              "type": "dataframe",
              "summary": "{\n  \"name\": \"city_revenue\",\n  \"rows\": 10,\n  \"fields\": [\n    {\n      \"column\": \"CityID\",\n      \"properties\": {\n        \"dtype\": \"number\",\n        \"std\": 32,\n        \"min\": 6,\n        \"max\": 94,\n        \"num_unique_values\": 10,\n        \"samples\": [\n          49,\n          70,\n          77\n        ],\n        \"semantic_type\": \"\",\n        \"description\": \"\"\n      }\n    },\n    {\n      \"column\": \"Revenue\",\n      \"properties\": {\n        \"dtype\": \"number\",\n        \"std\": 1311413.762557238,\n        \"min\": 43221821.50359,\n        \"max\": 47117168.84607,\n        \"num_unique_values\": 10,\n        \"samples\": [\n          46068079.37567,\n          46679385.34128,\n          45063824.2606\n        ],\n        \"semantic_type\": \"\",\n        \"description\": \"\"\n      }\n    },\n    {\n      \"column\": \"Zipcode\",\n      \"properties\": {\n        \"dtype\": \"number\",\n        \"std\": 4201,\n        \"min\": 157,\n        \"max\": 12654,\n        \"num_unique_values\": 10,\n        \"samples\": [\n          8944,\n          415,\n          4409\n        ],\n        \"semantic_type\": \"\",\n        \"description\": \"\"\n      }\n    },\n    {\n      \"column\": \"RevenuePerCapita\",\n      \"properties\": {\n        \"dtype\": \"number\",\n        \"std\": 85642.68787453833,\n        \"min\": 3657.002366596333,\n        \"max\": 275298.2261375159,\n        \"num_unique_values\": 10,\n        \"samples\": [\n          5150.724438245751,\n          112480.44660549397,\n          10220.871912134271\n        ],\n        \"semantic_type\": \"\",\n        \"description\": \"\"\n      }\n    }\n  ]\n}"
            }
          },
          "metadata": {},
          "execution_count": 20
        }
      ],
      "source": [
        "# View top cities\n",
        "city_revenue.sort_values(by='RevenuePerCapita', ascending=False).head(10)"
      ]
    },
    {
      "cell_type": "code",
      "execution_count": 21,
      "metadata": {
        "id": "mB1ccojHEGsd"
      },
      "outputs": [],
      "source": [
        "# # Merge product information into the sales data to bring in Price and CategoryID\n",
        "sales = sales.merge(products[['ProductID', 'Price', 'CategoryID']], on='ProductID', how='left')\n",
        "\n",
        "# Merge category names into the sales data using the CategoryID from products\n",
        "sales = sales.merge(categories[['CategoryID', 'CategoryName']], on='CategoryID', how='left')"
      ]
    },
    {
      "cell_type": "code",
      "execution_count": 22,
      "metadata": {
        "colab": {
          "base_uri": "https://localhost:8080/"
        },
        "id": "eUbYlDyk0sAm",
        "outputId": "9c791535-1861-46af-8913-d6ff749f8360"
      },
      "outputs": [
        {
          "output_type": "stream",
          "name": "stdout",
          "text": [
            "Index(['SalesID', 'SalesPersonID', 'CustomerID', 'ProductID', 'Quantity',\n",
            "       'Discount', 'TotalPrice', 'SalesDate', 'TransactionNumber', 'Price_x',\n",
            "       'Revenue', 'CityID', 'Zipcode', 'Price_y', 'CategoryID',\n",
            "       'CategoryName'],\n",
            "      dtype='object')\n"
          ]
        }
      ],
      "source": [
        "print(sales.columns)"
      ]
    },
    {
      "cell_type": "markdown",
      "source": [
        "**Note: If the cell below doesn't work, please re-run it. There might be some merging issues—make sure all required columns are correctly joined before proceeding.**"
      ],
      "metadata": {
        "id": "xhoc5s_gk22R"
      }
    },
    {
      "cell_type": "code",
      "execution_count": 24,
      "metadata": {
        "id": "YPcbfEfbFhHN"
      },
      "outputs": [],
      "source": [
        "# # Merge CityID from customers table to sales\n",
        "sales = sales.merge(customers[['CustomerID', 'CityID']], on='CustomerID', how='left')\n",
        "\n",
        "# Merge CityName from cities table to sales using the CityID\n",
        "sales = sales.merge(cities[['CityID', 'CityName']], on='CityID', how='left')"
      ]
    },
    {
      "cell_type": "markdown",
      "metadata": {
        "id": "I9FxSMnf7fME"
      },
      "source": [
        "# **Exploratory Data Analysis (EDA)**"
      ]
    },
    {
      "cell_type": "code",
      "execution_count": 25,
      "metadata": {
        "colab": {
          "base_uri": "https://localhost:8080/"
        },
        "id": "x-XmjzOcGHR8",
        "outputId": "84616e2d-6b4b-4164-85e8-1288a1d2985c"
      },
      "outputs": [
        {
          "output_type": "stream",
          "name": "stdout",
          "text": [
            " Monthly Revenue Trend:\n",
            "     Month       Revenue\n",
            "0  2018-01  1.030736e+09\n",
            "1  2018-02  9.292042e+08\n",
            "2  2018-03  1.032201e+09\n",
            "3  2018-04  9.972685e+08\n",
            "4  2018-05  2.998324e+08\n"
          ]
        }
      ],
      "source": [
        "# Monthly revenue trend\n",
        "sales['Month'] = sales['SalesDate'].dt.to_period('M')\n",
        "monthly_revenue = sales.groupby('Month')['Revenue'].sum().reset_index()\n",
        "print(\" Monthly Revenue Trend:\")\n",
        "print(monthly_revenue)"
      ]
    },
    {
      "cell_type": "code",
      "execution_count": 26,
      "metadata": {
        "colab": {
          "base_uri": "https://localhost:8080/"
        },
        "id": "hESZ5bTGGO2H",
        "outputId": "a8b3a47d-98fa-496b-9cbd-1ea7af0251c1"
      },
      "outputs": [
        {
          "output_type": "stream",
          "name": "stdout",
          "text": [
            "\n",
            " Revenue by Product Category:\n",
            "   CategoryName       Revenue\n",
            "0   Confections  5.569307e+08\n",
            "1          Meat  4.928888e+08\n",
            "2       Poultry  4.400256e+08\n",
            "3       Cereals  4.273934e+08\n",
            "4        Snails  3.720849e+08\n",
            "5       Produce  3.682436e+08\n",
            "6     Beverages  3.665150e+08\n",
            "7         Dairy  3.543582e+08\n",
            "8       Seafood  3.305280e+08\n",
            "9         Grain  3.238791e+08\n",
            "10   Shell fish  2.995983e+08\n"
          ]
        }
      ],
      "source": [
        "# Revenue by product category\n",
        "category_revenue = sales.groupby('CategoryName')['Revenue'].sum().sort_values(ascending=False).reset_index()\n",
        "print(\"\\n Revenue by Product Category:\")\n",
        "print(category_revenue)"
      ]
    },
    {
      "cell_type": "code",
      "execution_count": 27,
      "metadata": {
        "colab": {
          "base_uri": "https://localhost:8080/"
        },
        "id": "rP9HDidAGRB3",
        "outputId": "b244157b-1ba7-4a42-8cef-1f2e3930d794"
      },
      "outputs": [
        {
          "output_type": "stream",
          "name": "stdout",
          "text": [
            "\n",
            " Top 10 Cities by Revenue:\n",
            "       CityName       Revenue\n",
            "0        Tucson  4.883921e+07\n",
            "1       Jackson  4.841614e+07\n",
            "2    Sacramento  4.819116e+07\n",
            "3    Fort Wayne  4.769013e+07\n",
            "4  Indianapolis  4.737903e+07\n",
            "5      Columbus  4.733929e+07\n",
            "6     Charlotte  4.712017e+07\n",
            "7   San Antonio  4.711717e+07\n",
            "8       Phoenix  4.683142e+07\n",
            "9       Yonkers  4.675141e+07\n"
          ]
        }
      ],
      "source": [
        "# Top 10 cities by revenue\n",
        "city_revenue = sales.groupby('CityName')['Revenue'].sum().sort_values(ascending=False).head(10).reset_index()\n",
        "print(\"\\n Top 10 Cities by Revenue:\")\n",
        "print(city_revenue)"
      ]
    },
    {
      "cell_type": "code",
      "execution_count": 28,
      "metadata": {
        "colab": {
          "base_uri": "https://localhost:8080/"
        },
        "id": "TrGCcxSkGWMi",
        "outputId": "d21e11ea-dfc2-4338-9346-e718363435c7"
      },
      "outputs": [
        {
          "output_type": "stream",
          "name": "stdout",
          "text": [
            "\n",
            " Average Discount by Category:\n",
            "   CategoryName  Discount\n",
            "0     Beverages  0.030055\n",
            "5          Meat  0.030026\n",
            "1       Cereals  0.029997\n",
            "6       Poultry  0.029996\n",
            "10       Snails  0.029977\n",
            "7       Produce  0.029967\n",
            "2   Confections  0.029954\n",
            "4         Grain  0.029952\n",
            "8       Seafood  0.029933\n",
            "9    Shell fish  0.029884\n",
            "3         Dairy  0.029864\n"
          ]
        }
      ],
      "source": [
        "# Average discount per category\n",
        "avg_discount_by_category = sales.groupby('CategoryName')['Discount'].mean().reset_index().sort_values(by='Discount', ascending=False)\n",
        "print(\"\\n Average Discount by Category:\")\n",
        "print(avg_discount_by_category)"
      ]
    },
    {
      "cell_type": "code",
      "execution_count": 29,
      "metadata": {
        "colab": {
          "base_uri": "https://localhost:8080/"
        },
        "id": "QQMg3_x2Gnon",
        "outputId": "41626b48-915b-4ac2-9e2a-a700fe7b25f2"
      },
      "outputs": [
        {
          "output_type": "stream",
          "name": "stdout",
          "text": [
            "\n",
            "🔹 Revenue by Product Class:\n",
            "    Class       Revenue\n",
            "0    High  1.463124e+09\n",
            "1     Low  1.456125e+09\n",
            "2  Medium  1.413197e+09\n"
          ]
        }
      ],
      "source": [
        "# Merge product class\n",
        "sales = sales.merge(products[['ProductID', 'Class']], on='ProductID', how='left')\n",
        "\n",
        "# Revenue by product class\n",
        "class_revenue = sales.groupby('Class')['Revenue'].sum().reset_index().sort_values(by='Revenue', ascending=False)\n",
        "print(\"\\n🔹 Revenue by Product Class:\")\n",
        "print(class_revenue)"
      ]
    },
    {
      "cell_type": "code",
      "execution_count": 30,
      "metadata": {
        "colab": {
          "base_uri": "https://localhost:8080/"
        },
        "id": "rhyWQ9rJGrGz",
        "outputId": "aacb3eb4-5f7e-449e-d880-e39e4ea97d3b"
      },
      "outputs": [
        {
          "output_type": "stream",
          "name": "stdout",
          "text": [
            "Top Categories by Revenue:\n",
            "  CategoryName       Revenue\n",
            "0  Confections  5.569307e+08\n",
            "1         Meat  4.928888e+08\n",
            "2      Poultry  4.400256e+08\n",
            "3      Cereals  4.273934e+08\n",
            "4       Snails  3.720849e+08\n",
            "5      Produce  3.682436e+08\n",
            "6    Beverages  3.665150e+08\n",
            "7        Dairy  3.543582e+08\n",
            "8      Seafood  3.305280e+08\n",
            "9        Grain  3.238791e+08\n"
          ]
        }
      ],
      "source": [
        "# Top product categories by total revenue\n",
        "top_categories = sales.groupby('CategoryName')['Revenue'].sum().sort_values(ascending=False).reset_index()\n",
        "print(\"Top Categories by Revenue:\")\n",
        "print(top_categories.head(10))"
      ]
    },
    {
      "cell_type": "code",
      "execution_count": 31,
      "metadata": {
        "colab": {
          "base_uri": "https://localhost:8080/"
        },
        "id": "lUpzv1RmHS5e",
        "outputId": "42535b74-218c-4d78-f581-778daa61c567"
      },
      "outputs": [
        {
          "output_type": "stream",
          "name": "stdout",
          "text": [
            "\n",
            "Top 10 Customers by Revenue:\n",
            "   CustomerID       Revenue\n",
            "0       94800  130324.15896\n",
            "1       95972  123004.86425\n",
            "2       97863  121922.59325\n",
            "3       95048  121883.95250\n",
            "4       95157  120849.77850\n",
            "5       94138  119853.83904\n",
            "6       97813  119418.64575\n",
            "7       96775  119180.30250\n",
            "8       95971  118687.73975\n",
            "9       95868  118624.58450\n"
          ]
        }
      ],
      "source": [
        "# Top 10 customers by total revenue\n",
        "top_customers = sales.groupby('CustomerID')['Revenue'].sum().sort_values(ascending=False).head(10).reset_index()\n",
        "print(\"\\nTop 10 Customers by Revenue:\")\n",
        "print(top_customers)"
      ]
    },
    {
      "cell_type": "code",
      "execution_count": 32,
      "metadata": {
        "id": "qCx9b-7JHpY0"
      },
      "outputs": [],
      "source": [
        "# Merge employee gender into sales\n",
        "sales = sales.merge(\n",
        "    employees[['EmployeeID', 'Gender']],\n",
        "    left_on='SalesPersonID',\n",
        "    right_on='EmployeeID',\n",
        "    how='left'\n",
        ")"
      ]
    },
    {
      "cell_type": "code",
      "execution_count": 33,
      "metadata": {
        "id": "f6HVRiM_HWhh",
        "colab": {
          "base_uri": "https://localhost:8080/"
        },
        "outputId": "4cc823b8-96ac-476c-dfe8-3bbd0c6f308d"
      },
      "outputs": [
        {
          "output_type": "stream",
          "name": "stdout",
          "text": [
            "\n",
            "Revenue by Employee Gender:\n",
            "  Gender       Revenue\n",
            "0      F  1.505534e+09\n",
            "1      M  2.826912e+09\n"
          ]
        }
      ],
      "source": [
        "# Revenue by employee gender\n",
        "revenue_by_gender = sales.groupby('Gender')['Revenue'].sum().reset_index()\n",
        "print(\"\\nRevenue by Employee Gender:\")\n",
        "print(revenue_by_gender)"
      ]
    },
    {
      "cell_type": "markdown",
      "metadata": {
        "id": "0M7YxDswJpPa"
      },
      "source": [
        "# **Testing Hypothesis**"
      ]
    },
    {
      "cell_type": "markdown",
      "metadata": {
        "id": "943PnrmVH3Xk"
      },
      "source": [
        "### ***Hypothesis 1***"
      ]
    },
    {
      "cell_type": "code",
      "execution_count": 34,
      "metadata": {
        "id": "0VtvFhbMDOn6",
        "colab": {
          "base_uri": "https://localhost:8080/",
          "height": 569
        },
        "outputId": "e7beedb5-b08b-4201-dc4f-a89a718532e2"
      },
      "outputs": [
        {
          "output_type": "display_data",
          "data": {
            "text/plain": [
              "<Figure size 1200x600 with 1 Axes>"
            ],
            "image/png": "[encoded data removed]"
          },
          "metadata": {}
        }
      ],
      "source": [
        "# -- Hypothesis - 1 --\n",
        "# Category Revenue Analysis\n",
        "# Aggregate revenue by category\n",
        "category_revenue = sales.groupby('CategoryName')['Revenue'].sum().sort_values(ascending=False)\n",
        "\n",
        "# Plot\n",
        "plt.figure(figsize=(12, 6))\n",
        "category_revenue.plot(kind='bar', color='skyblue')\n",
        "plt.title(\"Total Revenue by Product Category\")\n",
        "plt.xlabel(\"Product Category\")\n",
        "plt.ylabel(\"Total Revenue (USD)\")\n",
        "plt.xticks(rotation=45, ha='right')\n",
        "plt.grid(axis='y')\n",
        "plt.tight_layout()\n",
        "plt.show()"
      ]
    },
    {
      "cell_type": "markdown",
      "metadata": {
        "id": "2ij2U5r_IRT9"
      },
      "source": [
        "### ***Insights:***\n",
        "\n",
        "🍬 Confections lead the pack — highest revenue-generating category overall.\n",
        "\n",
        "🍖 Meat & Poultry are strong performers — ideal for strategic promotions.\n",
        "\n",
        "🐚 Shellfish & Grains trail behind — consider revamping strategy or bundling to boost sales."
      ]
    },
    {
      "cell_type": "markdown",
      "metadata": {
        "id": "4lYISldhIp3S"
      },
      "source": []
    },
    {
      "cell_type": "markdown",
      "metadata": {
        "id": "90eATSclI8E5"
      },
      "source": [
        "### ***Hypothesis 2***"
      ]
    },
    {
      "cell_type": "code",
      "execution_count": 35,
      "metadata": {
        "id": "6ldtUaLXIU17",
        "colab": {
          "base_uri": "https://localhost:8080/",
          "height": 669
        },
        "outputId": "18839b14-80d2-4ae6-832d-2095edb57c00"
      },
      "outputs": [
        {
          "output_type": "stream",
          "name": "stderr",
          "text": [
            "/tmp/ipython-input-35-1347419047.py:18: FutureWarning: \n",
            "\n",
            "Passing `palette` without assigning `hue` is deprecated and will be removed in v0.14.0. Assign the `x` variable to `hue` and set `legend=False` for the same effect.\n",
            "\n",
            "  sns.barplot(data=discount_summary, x='Discount', y='Quantity', palette='Blues_d')\n",
            "/tmp/ipython-input-35-1347419047.py:24: FutureWarning: \n",
            "\n",
            "Passing `palette` without assigning `hue` is deprecated and will be removed in v0.14.0. Assign the `x` variable to `hue` and set `legend=False` for the same effect.\n",
            "\n",
            "  sns.barplot(data=discount_summary, x='Discount', y='Revenue', palette='Oranges_d')\n"
          ]
        },
        {
          "output_type": "display_data",
          "data": {
            "text/plain": [
              "<Figure size 1200x500 with 2 Axes>"
            ],
            "image/png": "[encoded data removed]"
          },
          "metadata": {}
        }
      ],
      "source": [
        "#-- Hypothesis - 2 --\n",
        "# Do Higher Discounts Increase Quantity but Reduce Revenue?\n",
        "\n",
        "# Filter for exact discount levels: 0.0, 0.1, 0.2\n",
        "discount_analysis = sales[sales['Discount'].isin([0.0, 0.1, 0.2])]\n",
        "\n",
        "# Group by exact discount values\n",
        "discount_summary = discount_analysis.groupby('Discount').agg({\n",
        "    'Quantity': 'mean',\n",
        "    'Revenue': 'mean',\n",
        "    'SalesID': 'count'\n",
        "}).rename(columns={'SalesID': 'TransactionCount'}).reset_index()\n",
        "\n",
        "# Plotting\n",
        "plt.figure(figsize=(12, 5))\n",
        "\n",
        "plt.subplot(1, 2, 1)\n",
        "sns.barplot(data=discount_summary, x='Discount', y='Quantity', palette='Blues_d')\n",
        "plt.title(\"Average Quantity Sold vs Exact Discount\")\n",
        "plt.xlabel(\"Discount\")\n",
        "plt.ylabel(\"Avg Quantity Sold\")\n",
        "\n",
        "plt.subplot(1, 2, 2)\n",
        "sns.barplot(data=discount_summary, x='Discount', y='Revenue', palette='Oranges_d')\n",
        "plt.title(\"Average Revenue vs Exact Discount\")\n",
        "plt.xlabel(\"Discount\")\n",
        "plt.ylabel(\"Avg Revenue\")\n",
        "\n",
        "plt.tight_layout()\n",
        "plt.show()"
      ]
    },
    {
      "cell_type": "markdown",
      "metadata": {
        "id": "Ic7c2j87JM0_"
      },
      "source": [
        "### ***Insights:***\n",
        "\n",
        "📦 Quantity Sold stays constant — Discounts (0%, 10%, 20%) have no noticeable effect on the average quantity sold.\n",
        "\n",
        "📉 Revenue declines with higher discounts — 20% discount leads to lowest average revenue, suggesting diminishing returns.\n",
        "\n",
        "🧠 Insight: Discounts don’t drive volume but do cut into profits — use them strategically!\n",
        "\n",
        "\n",
        "\n"
      ]
    },
    {
      "cell_type": "markdown",
      "metadata": {
        "id": "83tUTsl9JTY0"
      },
      "source": [
        "### ***Hypothesis 3***"
      ]
    },
    {
      "cell_type": "code",
      "execution_count": 36,
      "metadata": {
        "id": "4Z9upjECPCB8",
        "colab": {
          "base_uri": "https://localhost:8080/",
          "height": 569
        },
        "outputId": "2925db56-4d97-4e25-ae9b-3d40db1384ba"
      },
      "outputs": [
        {
          "output_type": "display_data",
          "data": {
            "text/plain": [
              "<Figure size 1200x600 with 1 Axes>"
            ],
            "image/png": "[encoded data removed]"
          },
          "metadata": {}
        }
      ],
      "source": [
        "#-- Hypothesis - 3 --\n",
        "# Does Sales Revenue Show Monthly Trends or Seasonality?\n",
        "# Convert SalesDate to datetime and extract Month\n",
        "sales['SalesDate'] = pd.to_datetime(sales['SalesDate'])\n",
        "sales['Month'] = sales['SalesDate'].dt.to_period('M').astype(str)\n",
        "\n",
        "# Group by Month\n",
        "monthly_revenue = sales.groupby('Month')['Revenue'].sum().reset_index()\n",
        "\n",
        "# Plot\n",
        "plt.figure(figsize=(12, 6))\n",
        "plt.plot(monthly_revenue['Month'], monthly_revenue['Revenue'], marker='o', color='teal')\n",
        "plt.title(\"Monthly Sales Revenue Trend\")\n",
        "plt.xlabel(\"Month\")\n",
        "plt.ylabel(\"Total Revenue\")\n",
        "plt.xticks(rotation=45)\n",
        "plt.grid(True)\n",
        "plt.tight_layout()\n",
        "plt.show()"
      ]
    },
    {
      "cell_type": "markdown",
      "metadata": {
        "id": "3rCwHM9ZKGf6"
      },
      "source": [
        "### ***Insights:***\n",
        "\n",
        "\n",
        "\n",
        "❄️ Stable Q1 (Jan–Mar) → Strong seasonal start, possibly due to New Year or winter promotions\n",
        "\n",
        "⬇️ Steep drop in May → Could be due to:\n",
        "\n",
        "*   Seasonal dip\n",
        "*   Inventory issue\n"
      ]
    },
    {
      "cell_type": "markdown",
      "metadata": {
        "id": "l3payXE4KzNp"
      },
      "source": [
        "### ***Hypothesis 4***"
      ]
    },
    {
      "cell_type": "code",
      "execution_count": 37,
      "metadata": {
        "id": "uanjN1XnTX0N",
        "colab": {
          "base_uri": "https://localhost:8080/",
          "height": 704
        },
        "outputId": "ecca2e6d-7c39-4145-d42f-f588afe434a6"
      },
      "outputs": [
        {
          "output_type": "stream",
          "name": "stderr",
          "text": [
            "/tmp/ipython-input-37-3082171300.py:13: FutureWarning: The default of observed=False is deprecated and will be changed to True in a future version of pandas. Pass observed=False to retain current behavior or observed=True to adopt the future default and silence this warning.\n",
            "  shelf_life_summary = sales.groupby('ShelfLifeGroup').agg({\n",
            "/tmp/ipython-input-37-3082171300.py:22: FutureWarning: \n",
            "\n",
            "Passing `palette` without assigning `hue` is deprecated and will be removed in v0.14.0. Assign the `x` variable to `hue` and set `legend=False` for the same effect.\n",
            "\n",
            "  sns.barplot(data=shelf_life_summary, x='ShelfLifeGroup', y='Quantity', palette='Blues_d')\n",
            "/tmp/ipython-input-37-3082171300.py:28: FutureWarning: \n",
            "\n",
            "Passing `palette` without assigning `hue` is deprecated and will be removed in v0.14.0. Assign the `x` variable to `hue` and set `legend=False` for the same effect.\n",
            "\n",
            "  sns.barplot(data=shelf_life_summary, x='ShelfLifeGroup', y='Revenue', palette='Greens_d')\n"
          ]
        },
        {
          "output_type": "display_data",
          "data": {
            "text/plain": [
              "<Figure size 1200x500 with 2 Axes>"
            ],
            "image/png": "[encoded data removed]"
          },
          "metadata": {}
        }
      ],
      "source": [
        "#-- Hypothesis - 4 --\n",
        "# Does product shelf life impacts revenue.\n",
        "# Merge shelf life info\n",
        "sales = sales.merge(products[['ProductID', 'Price', 'VitalityDays']], on='ProductID', how='left')\n",
        "sales['VitalityDays'] = sales['VitalityDays'].astype(int)\n",
        "\n",
        "# Create shelf life bins\n",
        "bins = [0, 3, 7, 14, 30, 1000]\n",
        "labels = ['0-3 days', '4-7 days', '8-14 days', '15-30 days', '30+ days']\n",
        "sales['ShelfLifeGroup'] = pd.cut(sales['VitalityDays'], bins=bins, labels=labels)\n",
        "\n",
        "# Group by shelf life\n",
        "shelf_life_summary = sales.groupby('ShelfLifeGroup').agg({\n",
        "    'Quantity': 'sum',\n",
        "    'Revenue': 'sum'\n",
        "}).reset_index()\n",
        "\n",
        "# Plot\n",
        "plt.figure(figsize=(12, 5))\n",
        "\n",
        "plt.subplot(1, 2, 1)\n",
        "sns.barplot(data=shelf_life_summary, x='ShelfLifeGroup', y='Quantity', palette='Blues_d')\n",
        "plt.title(\"Total Quantity Sold by Product Shelf Life\")\n",
        "plt.xlabel(\"Shelf Life Group\")\n",
        "plt.ylabel(\"Total Quantity\")\n",
        "\n",
        "plt.subplot(1, 2, 2)\n",
        "sns.barplot(data=shelf_life_summary, x='ShelfLifeGroup', y='Revenue', palette='Greens_d')\n",
        "plt.title(\"Total Revenue by Product Shelf Life\")\n",
        "plt.xlabel(\"Shelf Life Group\")\n",
        "plt.ylabel(\"Total Revenue\")\n",
        "\n",
        "plt.tight_layout()\n",
        "plt.show()"
      ]
    },
    {
      "cell_type": "markdown",
      "metadata": {
        "id": "Stiae20gLxng"
      },
      "source": [
        "### ***Insights:***\n",
        "\n",
        "🥫 30+ day products dominate — highest in both quantity sold and revenue.\n",
        "\n",
        "❌ 0–3 day items underperform — minimal sales and revenue contribution.\n",
        "\n",
        "🧃 15–30 day items perform well — solid revenue, second only to long shelf life products."
      ]
    },
    {
      "cell_type": "markdown",
      "metadata": {
        "id": "adXuUnL5K8MA"
      },
      "source": [
        "### ***Hypothesis 5***"
      ]
    },
    {
      "cell_type": "code",
      "execution_count": 38,
      "metadata": {
        "colab": {
          "base_uri": "https://localhost:8080/",
          "height": 704
        },
        "id": "gLIkipJud5NR",
        "outputId": "0956e355-b5d0-4be7-dc9e-9b394119d817"
      },
      "outputs": [
        {
          "output_type": "stream",
          "name": "stderr",
          "text": [
            "/tmp/ipython-input-38-624543625.py:9: FutureWarning: The default of observed=False is deprecated and will be changed to True in a future version of pandas. Pass observed=False to retain current behavior or observed=True to adopt the future default and silence this warning.\n",
            "  price_summary = sales.groupby('PriceGroup').agg({\n",
            "/tmp/ipython-input-38-624543625.py:19: FutureWarning: \n",
            "\n",
            "Passing `palette` without assigning `hue` is deprecated and will be removed in v0.14.0. Assign the `x` variable to `hue` and set `legend=False` for the same effect.\n",
            "\n",
            "  sns.barplot(data=price_summary, x='PriceGroup', y='Revenue', palette='mako')\n",
            "/tmp/ipython-input-38-624543625.py:26: FutureWarning: \n",
            "\n",
            "Passing `palette` without assigning `hue` is deprecated and will be removed in v0.14.0. Assign the `x` variable to `hue` and set `legend=False` for the same effect.\n",
            "\n",
            "  sns.barplot(data=price_summary, x='PriceGroup', y='Quantity', palette='crest')\n"
          ]
        },
        {
          "output_type": "display_data",
          "data": {
            "text/plain": [
              "<Figure size 1200x500 with 2 Axes>"
            ],
            "image/png": "[encoded data removed]"
          },
          "metadata": {}
        }
      ],
      "source": [
        "#-- Hypothesis - 5 --\n",
        "# Do Higher-Priced Products Generate More Total Revenue?\n",
        "# Create price range bins\n",
        "bins = [0, 5, 15, 30, 50, 1000]\n",
        "labels = ['<$5', '$5–15', '$15–30', '$30–50', '$50+']\n",
        "sales['PriceGroup'] = pd.cut(sales['Price'], bins=bins, labels=labels)\n",
        "\n",
        "# Group and summarize\n",
        "price_summary = sales.groupby('PriceGroup').agg({\n",
        "    'Revenue': 'sum',\n",
        "    'Quantity': 'sum'\n",
        "}).reset_index()\n",
        "\n",
        "# Plot\n",
        "plt.figure(figsize=(12, 5))\n",
        "\n",
        "# Revenue Plot\n",
        "plt.subplot(1, 2, 1)\n",
        "sns.barplot(data=price_summary, x='PriceGroup', y='Revenue', palette='mako')\n",
        "plt.title(\"Total Revenue by Product Price Range\")\n",
        "plt.xlabel(\"Price Range\")\n",
        "plt.ylabel(\"Total Revenue\")\n",
        "\n",
        "# Quantity Plot\n",
        "plt.subplot(1, 2, 2)\n",
        "sns.barplot(data=price_summary, x='PriceGroup', y='Quantity', palette='crest')\n",
        "plt.title(\"Total Quantity Sold by Product Price Range\")\n",
        "plt.xlabel(\"Price Range\")\n",
        "plt.ylabel(\"Total Quantity\")\n",
        "\n",
        "plt.tight_layout()\n",
        "plt.show()"
      ]
    },
    {
      "cell_type": "markdown",
      "metadata": {
        "id": "PFPnW5EgMgQY"
      },
      "source": [
        "### ***Insights:***\n",
        "\n",
        "🏆 $50+ products lead the pack — They bring in the highest revenue and are the most sold in quantity too!\n",
        "\n",
        "📉 Low-price items (<$15) contribute very little to overall sales and revenue.\n",
        "\n",
        "📊 Focus on high-priced product lines ($50+) — they drive both volume and value!"
      ]
    },
    {
      "cell_type": "markdown",
      "metadata": {
        "id": "mFjYbdZxLFBb"
      },
      "source": [
        "### ***Hypothesis 6***"
      ]
    },
    {
      "cell_type": "code",
      "execution_count": 39,
      "metadata": {
        "id": "yxsyFVamfdSg",
        "colab": {
          "base_uri": "https://localhost:8080/",
          "height": 676
        },
        "outputId": "e5a0f6c6-1baf-4391-a62b-751350f1035d"
      },
      "outputs": [
        {
          "output_type": "stream",
          "name": "stderr",
          "text": [
            "/tmp/ipython-input-39-214092314.py:18: FutureWarning: \n",
            "\n",
            "Passing `palette` without assigning `hue` is deprecated and will be removed in v0.14.0. Assign the `x` variable to `hue` and set `legend=False` for the same effect.\n",
            "\n",
            "  sns.barplot(data=top_city_orders, x='CityName', y='AvgOrderValue', palette='rocket')\n"
          ]
        },
        {
          "output_type": "display_data",
          "data": {
            "text/plain": [
              "<Figure size 1200x600 with 1 Axes>"
            ],
            "image/png": "[encoded data removed]"
          },
          "metadata": {}
        }
      ],
      "source": [
        "#-- Hypothesis - 6 --\n",
        "# Do Larger Cities Have Higher Average Order Value?\n",
        "\n",
        "# Group by city\n",
        "city_avg_order = sales.groupby('CityName').agg({\n",
        "    'Revenue': 'sum',\n",
        "    'SalesID': 'count',\n",
        "    'Zipcode': 'first'  # population\n",
        "}).reset_index()\n",
        "\n",
        "city_avg_order['AvgOrderValue'] = city_avg_order['Revenue'] / city_avg_order['SalesID']\n",
        "\n",
        "# Select top 10 populated cities\n",
        "top_city_orders = city_avg_order.sort_values(by='Zipcode', ascending=False).head(10)\n",
        "\n",
        "# Plot\n",
        "plt.figure(figsize=(12, 6))\n",
        "sns.barplot(data=top_city_orders, x='CityName', y='AvgOrderValue', palette='rocket')\n",
        "plt.title(\"Avg Order Value in Top 10 Most Populated Cities\")\n",
        "plt.xlabel(\"City\")\n",
        "plt.ylabel(\"Average Order Value\")\n",
        "plt.xticks(rotation=45)\n",
        "plt.tight_layout()\n",
        "plt.show()"
      ]
    },
    {
      "cell_type": "markdown",
      "metadata": {
        "id": "2g6GF1QvNRIq"
      },
      "source": [
        "### ***Insights:***\n",
        "\n",
        "💸 Fresno, Las Vegas, and Lincoln top the chart with the highest average order values, making them prime markets for premium offerings.\n",
        "\n",
        "🛒 Long Beach lags behind slightly — consider targeted campaigns or bundling strategies to boost spend per order there.\n",
        "\n",
        "📍 Focus on cities like Fresno and Lincoln for upselling opportunities and personalized promotions!"
      ]
    },
    {
      "cell_type": "markdown",
      "metadata": {
        "id": "ptwKneaJO1Xt"
      },
      "source": [
        "### ***Hypothesis 7***"
      ]
    },
    {
      "cell_type": "code",
      "execution_count": 40,
      "metadata": {
        "id": "CFx8yDsjgaRM",
        "colab": {
          "base_uri": "https://localhost:8080/",
          "height": 704
        },
        "outputId": "52515ba2-7047-4573-9f5d-43d2ddcb21e0"
      },
      "outputs": [
        {
          "output_type": "stream",
          "name": "stderr",
          "text": [
            "/tmp/ipython-input-40-88100401.py:24: FutureWarning: The default of observed=False is deprecated and will be changed to True in a future version of pandas. Pass observed=False to retain current behavior or observed=True to adopt the future default and silence this warning.\n",
            "  age_group_summary = sales.groupby('AgeGroup').agg({\n",
            "/tmp/ipython-input-40-88100401.py:33: FutureWarning: \n",
            "\n",
            "Passing `palette` without assigning `hue` is deprecated and will be removed in v0.14.0. Assign the `x` variable to `hue` and set `legend=False` for the same effect.\n",
            "\n",
            "  sns.barplot(data=age_group_summary, x='AgeGroup', y='Revenue', palette='flare')\n",
            "/tmp/ipython-input-40-88100401.py:39: FutureWarning: \n",
            "\n",
            "Passing `palette` without assigning `hue` is deprecated and will be removed in v0.14.0. Assign the `x` variable to `hue` and set `legend=False` for the same effect.\n",
            "\n",
            "  sns.barplot(data=age_group_summary, x='AgeGroup', y='Quantity', palette='crest')\n"
          ]
        },
        {
          "output_type": "display_data",
          "data": {
            "text/plain": [
              "<Figure size 1200x500 with 2 Axes>"
            ],
            "image/png": "[encoded data removed]"
          },
          "metadata": {}
        }
      ],
      "source": [
        "#-- Hypothesis - 7 --\n",
        "# Does Newer Products Drive More Revenue ?\n",
        "# Parse dates and calculate product age\n",
        "products['ModifyDate'] = pd.to_datetime(products['ModifyDate'])\n",
        "latest_date = products['ModifyDate'].max()\n",
        "products['ProductAgeDays'] = (latest_date - products['ModifyDate']).dt.days\n",
        "\n",
        "# Define product age buckets\n",
        "bins = [0, 180, 365, 9999]\n",
        "labels = ['New (0–6 months)', 'Moderate (6–12 months)', 'Old (1+ year)']\n",
        "products['AgeGroup'] = pd.cut(products['ProductAgeDays'], bins=bins, labels=labels)\n",
        "\n",
        "# Drop any existing Price column to avoid conflict\n",
        "if 'Price' in sales.columns:\n",
        "    sales.drop(columns=['Price'], inplace=True)\n",
        "\n",
        "# Now safely merge\n",
        "sales = sales.merge(products[['ProductID', 'Price', 'AgeGroup']], on='ProductID', how='left')\n",
        "\n",
        "# Compute Revenue\n",
        "sales['Revenue'] = sales['Price'] * sales['Quantity'] * (1 - sales['Discount'])\n",
        "\n",
        "# Group and summarize\n",
        "age_group_summary = sales.groupby('AgeGroup').agg({\n",
        "    'Revenue': 'sum',\n",
        "    'Quantity': 'sum'\n",
        "}).reset_index()\n",
        "\n",
        "# Plot\n",
        "plt.figure(figsize=(12, 5))\n",
        "\n",
        "plt.subplot(1, 2, 1)\n",
        "sns.barplot(data=age_group_summary, x='AgeGroup', y='Revenue', palette='flare')\n",
        "plt.title(\"Total Revenue by Product Age Group\")\n",
        "plt.xlabel(\"Product Age Group\")\n",
        "plt.ylabel(\"Total Revenue\")\n",
        "\n",
        "plt.subplot(1, 2, 2)\n",
        "sns.barplot(data=age_group_summary, x='AgeGroup', y='Quantity', palette='crest')\n",
        "plt.title(\"Total Quantity Sold by Product Age Group\")\n",
        "plt.xlabel(\"Product Age Group\")\n",
        "plt.ylabel(\"Total Quantity\")\n",
        "\n",
        "plt.tight_layout()\n",
        "plt.show()"
      ]
    },
    {
      "cell_type": "markdown",
      "metadata": {
        "id": "Pyn5eljxNVtH"
      },
      "source": [
        "### ***Insights:***\n",
        "\n",
        "🟣 Moderate-age products (6–12 months) generated the highest revenue, followed closely by new products, indicating strong launch and mid-life performance.\n",
        "\n",
        "📉 Old products (1+ year) show significantly lower sales and revenue, suggesting reduced customer interest or outdated stock.\n",
        "\n",
        "📦 Focus marketing and stock strategies on newer and moderate-age products for better performance! 🎯"
      ]
    },
    {
      "cell_type": "markdown",
      "metadata": {
        "id": "4WupgSgPOjpx"
      },
      "source": [
        "## **An additional hypothesis that was partially validated**"
      ]
    },
    {
      "cell_type": "markdown",
      "metadata": {
        "id": "8a0_F3nWO9js"
      },
      "source": [
        "### ***Hypothesis 8***"
      ]
    },
    {
      "cell_type": "code",
      "execution_count": 41,
      "metadata": {
        "id": "PtO-a5q0Jd05",
        "colab": {
          "base_uri": "https://localhost:8080/",
          "height": 624
        },
        "outputId": "69dfdce2-e8d2-418e-ed5f-3b306b8ba9b1"
      },
      "outputs": [
        {
          "output_type": "stream",
          "name": "stderr",
          "text": [
            "/tmp/ipython-input-41-1996137632.py:21: UserWarning: set_ticklabels() should only be used with a fixed number of ticks, i.e. after set_ticks() or using a FixedLocator.\n",
            "  ax1.set_xticklabels(top_cities['CityName'], rotation=45, ha='right')\n"
          ]
        },
        {
          "output_type": "display_data",
          "data": {
            "text/plain": [
              "<Figure size 1200x600 with 2 Axes>"
            ],
            "image/png": "[encoded data removed]"
          },
          "metadata": {}
        }
      ],
      "source": [
        "# -- Hypothesis - 8  --\n",
        "# High-population cities generate more revenue but lower revenue per capita.\n",
        "# Group by city\n",
        "city_revenue = sales.groupby('CityName').agg({\n",
        "    'Revenue': 'sum',\n",
        "    'Zipcode': 'first'  # Zipcode = population\n",
        "}).reset_index()\n",
        "\n",
        "# Calculate revenue per capita\n",
        "city_revenue['RevenuePerCapita'] = city_revenue['Revenue'] / city_revenue['Zipcode']\n",
        "\n",
        "# Top 10 populous cities\n",
        "top_cities = city_revenue.sort_values(by='Zipcode', ascending=False).head(10)\n",
        "\n",
        "# Plot\n",
        "fig, ax1 = plt.subplots(figsize=(12, 6))\n",
        "\n",
        "ax1.bar(top_cities['CityName'], top_cities['Revenue'], color='skyblue')\n",
        "ax1.set_ylabel(\"Total Revenue\", color='blue')\n",
        "ax1.tick_params(axis='y', labelcolor='blue')\n",
        "ax1.set_xticklabels(top_cities['CityName'], rotation=45, ha='right')\n",
        "\n",
        "ax2 = ax1.twinx()\n",
        "ax2.plot(top_cities['CityName'], top_cities['RevenuePerCapita'], color='green', marker='o')\n",
        "ax2.set_ylabel(\"Revenue per Capita\", color='green')\n",
        "ax2.tick_params(axis='y', labelcolor='green')\n",
        "\n",
        "plt.title(\"Revenue vs Population & Revenue per Capita (Top 10 Cities)\")\n",
        "plt.tight_layout()\n",
        "plt.show()"
      ]
    },
    {
      "cell_type": "markdown",
      "metadata": {
        "id": "h6vRlYEJNtG7"
      },
      "source": [
        "### ***Insigths:***\n",
        "\n",
        "💰 Las Vegas tops in revenue per capita, suggesting strong spending habits despite similar total revenue to other cities.\n",
        "\n",
        "📉 Long Beach has relatively low revenue per capita, indicating underperformance relative to its population size.\n",
        "\n",
        "📈 Balanced performers like Honolulu and El Paso show both solid revenue and per capita contribution."
      ]
    },
    {
      "cell_type": "markdown",
      "metadata": {
        "id": "tK__u9vFPEpc"
      },
      "source": [
        "### ***Hypothesis 9***"
      ]
    },
    {
      "cell_type": "code",
      "execution_count": 42,
      "metadata": {
        "id": "W39oehrDKUS2",
        "colab": {
          "base_uri": "https://localhost:8080/",
          "height": 669
        },
        "outputId": "b9996f66-c72e-4ca6-cc91-788c49c85e20"
      },
      "outputs": [
        {
          "output_type": "stream",
          "name": "stderr",
          "text": [
            "/tmp/ipython-input-42-2075364055.py:16: FutureWarning: \n",
            "\n",
            "Passing `palette` without assigning `hue` is deprecated and will be removed in v0.14.0. Assign the `x` variable to `hue` and set `legend=False` for the same effect.\n",
            "\n",
            "  sns.barplot(data=class_summary, x='Class', y='Revenue', palette='YlGnBu')\n",
            "/tmp/ipython-input-42-2075364055.py:21: FutureWarning: \n",
            "\n",
            "Passing `palette` without assigning `hue` is deprecated and will be removed in v0.14.0. Assign the `x` variable to `hue` and set `legend=False` for the same effect.\n",
            "\n",
            "  sns.barplot(data=class_summary, x='Class', y='Quantity', palette='BuGn')\n"
          ]
        },
        {
          "output_type": "display_data",
          "data": {
            "text/plain": [
              "<Figure size 1200x500 with 2 Axes>"
            ],
            "image/png": "[encoded data removed]"
          },
          "metadata": {}
        }
      ],
      "source": [
        "#-- Hypothesis - 9 --\n",
        "# Premium Products — Higher Revenue per Unit but Lower Volume?\n",
        "# Group by product class\n",
        "class_summary = sales.groupby('Class').agg({\n",
        "    'Revenue': 'sum',\n",
        "    'Quantity': 'sum'\n",
        "}).reset_index()\n",
        "\n",
        "# Add revenue per unit sold\n",
        "class_summary['RevenuePerUnit'] = class_summary['Revenue'] / class_summary['Quantity']\n",
        "\n",
        "# Plot\n",
        "plt.figure(figsize=(12, 5))\n",
        "\n",
        "plt.subplot(1, 2, 1)\n",
        "sns.barplot(data=class_summary, x='Class', y='Revenue', palette='YlGnBu')\n",
        "plt.title(\"Total Revenue by Product Class\")\n",
        "plt.ylabel(\"Total Revenue\")\n",
        "\n",
        "plt.subplot(1, 2, 2)\n",
        "sns.barplot(data=class_summary, x='Class', y='Quantity', palette='BuGn')\n",
        "plt.title(\"Total Quantity Sold by Product Class\")\n",
        "plt.ylabel(\"Total Quantity\")\n",
        "\n",
        "plt.tight_layout()\n",
        "plt.show()"
      ]
    },
    {
      "cell_type": "markdown",
      "metadata": {
        "id": "dnvI8vbFOIGT"
      },
      "source": [
        "### ***Insights:***\n",
        "\n",
        "💵 High-class products generate the highest revenue despite having the lowest quantity sold — indicating premium pricing strategy.\n",
        "\n",
        "📦 Medium-class products lead in quantity sold, showing strong market demand and accessibility.\n",
        "\n",
        "⚖️ Low-class products maintain a balance with high quantity and near-equal revenue to high-class, making them versatile performers."
      ]
    },
    {
      "cell_type": "markdown",
      "metadata": {
        "id": "18F5wM6DN3TP"
      },
      "source": [
        "#**Correlation Analysis**\n",
        "\n",
        "\n"
      ]
    },
    {
      "cell_type": "code",
      "execution_count": null,
      "metadata": {
        "id": "x92_QTLQjacr"
      },
      "outputs": [],
      "source": [
        "# Select relevant numeric columns\n",
        "corr_data = sales[['Revenue', 'Quantity', 'Price', 'Discount']]\n",
        "\n",
        "# Compute correlation matrix\n",
        "corr_matrix = corr_data.corr()\n",
        "\n",
        "# Plot\n",
        "plt.figure(figsize=(6, 4))\n",
        "sns.heatmap(corr_matrix, annot=True, cmap='coolwarm', fmt=\".2f\")\n",
        "plt.title(\"Correlation Matrix of Key Metrics\")\n",
        "plt.tight_layout()\n",
        "plt.show()"
      ]
    },
    {
      "cell_type": "markdown",
      "metadata": {
        "id": "IkG2ohcvAovC"
      },
      "source": [
        "# **Overall Analysis:**\n",
        "\n",
        "\n",
        "\n",
        "\n",
        "*   **Weekday vs Weekend Sales Trends:** Sales volumes are generally higher on weekdays, but revenue per order and gross margin improve on weekends, suggesting weekend shoppers may buy fewer but more valuable items.\n",
        "\n",
        "*   **Customer Purchase Frequency:** A small segment of high-frequency customers contributes disproportionately to total revenue. These loyal customers are essential to FreshMart’s revenue growth strategy.\n",
        "\n",
        "*   **Impact of Discounts:** Heavy discounting does not lead to significant increases in quantity sold and may actually reduce revenue, highlighting the need for a more targeted discount strategy.\n",
        "\n",
        "\n",
        "*   **Product Class and Pricing Strategy:** Premium-class and high-priced products generate more revenue per unit but are sold in lower quantities, indicating a need for balancing premium and mass-market offerings.\n",
        "\n",
        "\n",
        "\n",
        "*   **Geographic Patterns:** Cities with larger populations have higher total sales but often show lower revenue per capita, suggesting underperformance or saturation in those regions.\n",
        "\n",
        "*   **Shelf Life and Revenue Impact:** Products with longer vitality (shelf life) tend to generate higher revenue, likely due to greater customer confidence and reduced wastage.\n",
        "\n",
        "*   **Employee Sales Distribution:** A small group of employees drives the majority of revenue, underscoring the value of performance tracking and incentive programs.\n",
        "\n",
        "\n",
        "\n",
        "\n",
        "\n",
        "\n",
        "\n",
        "\n",
        "\n",
        "\n",
        "\n",
        "\n",
        "\n",
        "\n",
        "\n"
      ]
    },
    {
      "cell_type": "markdown",
      "metadata": {
        "id": "evRDWOa_BOdE"
      },
      "source": [
        "# **Recommendations:**\n",
        "\n",
        "\n",
        "*   **Leverage Weekend Buying Behavior:** Launch targeted weekend promotions on premium or high-margin items when customers are more likely to spend thoughtfully.\n",
        "\n",
        "*   **Engage High-Value Customers:** Implement loyalty programs, personalized offers, or early access to deals for top 20% of customers who contribute the most to revenue.\n",
        "\n",
        "*   **Optimize Discount Strategy:** Limit broad 20% discounts and instead use data-driven discounting for specific categories or underperforming cities to protect revenue margins.\n",
        "\n",
        "*   **Promote High-Shelf-Life Products:** Highlight and promote long-lasting products through in-store signage and digital campaigns to drive more confident purchases.\n",
        "\n",
        "\n",
        "*   **Support Low-Performing Regions:** Improve marketing, stock availability, and staff training in cities with high population but low per capita revenue.\n",
        "\n",
        "\n",
        "*   **Boost Employee Performance:** Recognize and reward top-performing employees and use their sales techniques as training examples for others.\n",
        "\n",
        "\n",
        "*   **Balance Product Mix:** Expand profitable premium products while maintaining fast-moving standard items to serve a broader customer base and stabilize revenue flow.\n",
        "\n",
        "\n",
        "\n",
        "\n",
        "\n",
        "\n",
        "\n",
        "\n",
        "\n",
        "\n",
        "\n",
        "\n",
        "\n",
        "\n",
        "\n"
      ]
    },
    {
      "cell_type": "markdown",
      "metadata": {
        "id": "HQvEa_70BnwY"
      },
      "source": [
        "# **Solution to Business Objective**\n",
        "To maximize total sales revenue, FreshMart should focus on improving revenue efficiency across its existing stores by leveraging smarter data-driven strategies. This includes optimizing discounting, pricing, product assortment, and employee performance based on customer behavior and sales trends."
      ]
    },
    {
      "cell_type": "markdown",
      "metadata": {
        "id": "vyVBg3zqBtzp"
      },
      "source": [
        "# **Strategies to Improve Revenue Performance:**\n",
        "\n",
        "\n",
        "\n",
        "*   **Targeted Customer Engagement:** Use segmentation to identify high-value customers and send personalized promotions or loyalty rewards to encourage repeat purchases. Promote premium products to customers with a history of high spending.\n",
        "\n",
        "\n",
        "*   **Smart Discounting Strategy:**\n",
        "Move away from blanket discounts. Instead, apply targeted promotions for underperforming product categories or low-revenue cities to improve returns without compromising margin.\n",
        "\n",
        "*   **Product Optimization:**\n",
        "Focus on products with longer shelf life and higher revenue contribution. Use this data to drive inventory and promotion decisions. Expand premium offerings in categories with proven success.\n",
        "\n",
        "*   **Data-Driven Sales Planning:**\n",
        "Identify peak shopping days and hours (e.g., weekends) and align inventory, staffing, and campaigns accordingly to capitalize on demand surges.\n",
        "*   **Employee Performance Enhancement:**\n",
        "Use performance data to recognize top sellers and offer coaching for low-performing staff. Design incentive programs that align employee motivation with revenue goals.\n",
        "\n",
        "\n",
        "*   **Personalized Retention Strategies:**\n",
        "Re-target inactive or low-engagement customers through personalized messages, discounts, or reminders tied to their previous shopping behavior to reduce customer drop-off.\n",
        "\n",
        "\n",
        "*   **Simplify Product Discovery:**\n",
        "Highlight category leaders (high-margin, high-volume items) in store layouts and digital platforms to make high-value purchases easier and faster for customers.\n",
        "\n",
        "\n",
        "\n",
        "\n",
        "\n",
        "\n",
        "\n",
        "\n",
        "\n",
        "\n",
        "\n",
        "\n",
        "\n",
        "\n",
        "\n",
        "\n",
        "\n",
        "\n"
      ]
    },
    {
      "cell_type": "markdown",
      "metadata": {
        "id": "Lvx-UqtfCAjV"
      },
      "source": []
    }
  ],
  "metadata": {
    "colab": {
      "provenance": []
    },
    "kernelspec": {
      "display_name": "Python 3",
      "name": "python3"
    },
    "language_info": {
      "name": "python"
    }
  },
  "nbformat": 4,
  "nbformat_minor": 0
}